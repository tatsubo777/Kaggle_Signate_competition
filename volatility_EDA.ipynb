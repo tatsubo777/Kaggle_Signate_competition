{
  "nbformat": 4,
  "nbformat_minor": 0,
  "metadata": {
    "colab": {
      "name": "volatility_EDA.ipynb",
      "provenance": [],
      "authorship_tag": "ABX9TyNY8VySMZtDyyynr6eeI7/A",
      "include_colab_link": true
    },
    "kernelspec": {
      "name": "python3",
      "display_name": "Python 3"
    },
    "language_info": {
      "name": "python"
    }
  },
  "cells": [
    {
      "cell_type": "markdown",
      "metadata": {
        "id": "view-in-github",
        "colab_type": "text"
      },
      "source": [
        "<a href=\"https://colab.research.google.com/github/tatsubo777/Kaggle_Signate_competition/blob/master/volatility_EDA.ipynb\" target=\"_parent\"><img src=\"https://colab.research.google.com/assets/colab-badge.svg\" alt=\"Open In Colab\"/></a>"
      ]
    },
    {
      "cell_type": "code",
      "metadata": {
        "colab": {
          "base_uri": "https://localhost:8080/",
          "height": 159
        },
        "id": "msqEpao688UE",
        "outputId": "a8b2ea2b-a345-4b61-99b8-4c5186afda34"
      },
      "source": [
        "import pandas as pd\n",
        "import numpy as np\n",
        "from google.colab import drive\n",
        "drive.mount('/content/drive')\n",
        "#グラフ描写ライブラリ\n",
        "from matplotlib import pyplot as plt\n",
        "from datetime import datetime\n",
        "\n",
        "sample = pd.read_csv('drive/My Drive/machine/SIgnate/Competition/optiver-realized-volatility-prediction/sample_submission.csv')\n",
        "sample\n"
      ],
      "execution_count": 1,
      "outputs": [
        {
          "output_type": "stream",
          "text": [
            "Mounted at /content/drive\n"
          ],
          "name": "stdout"
        },
        {
          "output_type": "execute_result",
          "data": {
            "text/html": [
              "<div>\n",
              "<style scoped>\n",
              "    .dataframe tbody tr th:only-of-type {\n",
              "        vertical-align: middle;\n",
              "    }\n",
              "\n",
              "    .dataframe tbody tr th {\n",
              "        vertical-align: top;\n",
              "    }\n",
              "\n",
              "    .dataframe thead th {\n",
              "        text-align: right;\n",
              "    }\n",
              "</style>\n",
              "<table border=\"1\" class=\"dataframe\">\n",
              "  <thead>\n",
              "    <tr style=\"text-align: right;\">\n",
              "      <th></th>\n",
              "      <th>row_id</th>\n",
              "      <th>target</th>\n",
              "    </tr>\n",
              "  </thead>\n",
              "  <tbody>\n",
              "    <tr>\n",
              "      <th>0</th>\n",
              "      <td>0-4</td>\n",
              "      <td>0.003048</td>\n",
              "    </tr>\n",
              "    <tr>\n",
              "      <th>1</th>\n",
              "      <td>0-32</td>\n",
              "      <td>0.003048</td>\n",
              "    </tr>\n",
              "    <tr>\n",
              "      <th>2</th>\n",
              "      <td>0-34</td>\n",
              "      <td>0.003048</td>\n",
              "    </tr>\n",
              "  </tbody>\n",
              "</table>\n",
              "</div>"
            ],
            "text/plain": [
              "  row_id    target\n",
              "0    0-4  0.003048\n",
              "1   0-32  0.003048\n",
              "2   0-34  0.003048"
            ]
          },
          "metadata": {
            "tags": []
          },
          "execution_count": 1
        }
      ]
    },
    {
      "cell_type": "code",
      "metadata": {
        "colab": {
          "base_uri": "https://localhost:8080/",
          "height": 142
        },
        "id": "PWfx2Sl2-Bxr",
        "outputId": "6ceceee3-6913-499b-d605-811eaf5c3c7a"
      },
      "source": [
        "test = pd.read_csv(\"drive/My Drive/machine/SIgnate/Competition/optiver-realized-volatility-prediction/test.csv\")\n",
        "test"
      ],
      "execution_count": 2,
      "outputs": [
        {
          "output_type": "execute_result",
          "data": {
            "text/html": [
              "<div>\n",
              "<style scoped>\n",
              "    .dataframe tbody tr th:only-of-type {\n",
              "        vertical-align: middle;\n",
              "    }\n",
              "\n",
              "    .dataframe tbody tr th {\n",
              "        vertical-align: top;\n",
              "    }\n",
              "\n",
              "    .dataframe thead th {\n",
              "        text-align: right;\n",
              "    }\n",
              "</style>\n",
              "<table border=\"1\" class=\"dataframe\">\n",
              "  <thead>\n",
              "    <tr style=\"text-align: right;\">\n",
              "      <th></th>\n",
              "      <th>stock_id</th>\n",
              "      <th>time_id</th>\n",
              "      <th>row_id</th>\n",
              "    </tr>\n",
              "  </thead>\n",
              "  <tbody>\n",
              "    <tr>\n",
              "      <th>0</th>\n",
              "      <td>0</td>\n",
              "      <td>4</td>\n",
              "      <td>0-4</td>\n",
              "    </tr>\n",
              "    <tr>\n",
              "      <th>1</th>\n",
              "      <td>0</td>\n",
              "      <td>32</td>\n",
              "      <td>0-32</td>\n",
              "    </tr>\n",
              "    <tr>\n",
              "      <th>2</th>\n",
              "      <td>0</td>\n",
              "      <td>34</td>\n",
              "      <td>0-34</td>\n",
              "    </tr>\n",
              "  </tbody>\n",
              "</table>\n",
              "</div>"
            ],
            "text/plain": [
              "   stock_id  time_id row_id\n",
              "0         0        4    0-4\n",
              "1         0       32   0-32\n",
              "2         0       34   0-34"
            ]
          },
          "metadata": {
            "tags": []
          },
          "execution_count": 2
        }
      ]
    },
    {
      "cell_type": "code",
      "metadata": {
        "colab": {
          "base_uri": "https://localhost:8080/",
          "height": 142
        },
        "id": "qX4ldTHF-WLQ",
        "outputId": "10239f48-7658-4eaf-e62a-dcd4d673b7eb"
      },
      "source": [
        "book_testparquet = pd.read_parquet(\"drive/My Drive/machine/SIgnate/Competition/optiver-realized-volatility-prediction/book_test.parquet/stock_id=0\")\n",
        "book_testparquet\n"
      ],
      "execution_count": 4,
      "outputs": [
        {
          "output_type": "execute_result",
          "data": {
            "text/html": [
              "<div>\n",
              "<style scoped>\n",
              "    .dataframe tbody tr th:only-of-type {\n",
              "        vertical-align: middle;\n",
              "    }\n",
              "\n",
              "    .dataframe tbody tr th {\n",
              "        vertical-align: top;\n",
              "    }\n",
              "\n",
              "    .dataframe thead th {\n",
              "        text-align: right;\n",
              "    }\n",
              "</style>\n",
              "<table border=\"1\" class=\"dataframe\">\n",
              "  <thead>\n",
              "    <tr style=\"text-align: right;\">\n",
              "      <th></th>\n",
              "      <th>time_id</th>\n",
              "      <th>seconds_in_bucket</th>\n",
              "      <th>bid_price1</th>\n",
              "      <th>ask_price1</th>\n",
              "      <th>bid_price2</th>\n",
              "      <th>ask_price2</th>\n",
              "      <th>bid_size1</th>\n",
              "      <th>ask_size1</th>\n",
              "      <th>bid_size2</th>\n",
              "      <th>ask_size2</th>\n",
              "    </tr>\n",
              "  </thead>\n",
              "  <tbody>\n",
              "    <tr>\n",
              "      <th>0</th>\n",
              "      <td>4</td>\n",
              "      <td>0</td>\n",
              "      <td>1.000049</td>\n",
              "      <td>1.000590</td>\n",
              "      <td>0.999656</td>\n",
              "      <td>1.000639</td>\n",
              "      <td>91</td>\n",
              "      <td>100</td>\n",
              "      <td>100</td>\n",
              "      <td>24</td>\n",
              "    </tr>\n",
              "    <tr>\n",
              "      <th>1</th>\n",
              "      <td>4</td>\n",
              "      <td>1</td>\n",
              "      <td>1.000049</td>\n",
              "      <td>1.000590</td>\n",
              "      <td>0.999656</td>\n",
              "      <td>1.000639</td>\n",
              "      <td>91</td>\n",
              "      <td>100</td>\n",
              "      <td>100</td>\n",
              "      <td>20</td>\n",
              "    </tr>\n",
              "    <tr>\n",
              "      <th>2</th>\n",
              "      <td>4</td>\n",
              "      <td>5</td>\n",
              "      <td>1.000049</td>\n",
              "      <td>1.000639</td>\n",
              "      <td>0.999656</td>\n",
              "      <td>1.000885</td>\n",
              "      <td>290</td>\n",
              "      <td>20</td>\n",
              "      <td>101</td>\n",
              "      <td>15</td>\n",
              "    </tr>\n",
              "  </tbody>\n",
              "</table>\n",
              "</div>"
            ],
            "text/plain": [
              "   time_id  seconds_in_bucket  bid_price1  ...  ask_size1  bid_size2  ask_size2\n",
              "0        4                  0    1.000049  ...        100        100         24\n",
              "1        4                  1    1.000049  ...        100        100         20\n",
              "2        4                  5    1.000049  ...         20        101         15\n",
              "\n",
              "[3 rows x 10 columns]"
            ]
          },
          "metadata": {
            "tags": []
          },
          "execution_count": 4
        }
      ]
    },
    {
      "cell_type": "code",
      "metadata": {
        "colab": {
          "base_uri": "https://localhost:8080/",
          "height": 142
        },
        "id": "UzVFgBH7-p8C",
        "outputId": "ba117aaa-8604-4596-f71c-79951df25737"
      },
      "source": [
        "trade_testparquet = pd.read_parquet(\"drive/My Drive/machine/SIgnate/Competition/optiver-realized-volatility-prediction/trade_test.parquet/stock_id=0\")\n",
        "trade_testparquet"
      ],
      "execution_count": 5,
      "outputs": [
        {
          "output_type": "execute_result",
          "data": {
            "text/html": [
              "<div>\n",
              "<style scoped>\n",
              "    .dataframe tbody tr th:only-of-type {\n",
              "        vertical-align: middle;\n",
              "    }\n",
              "\n",
              "    .dataframe tbody tr th {\n",
              "        vertical-align: top;\n",
              "    }\n",
              "\n",
              "    .dataframe thead th {\n",
              "        text-align: right;\n",
              "    }\n",
              "</style>\n",
              "<table border=\"1\" class=\"dataframe\">\n",
              "  <thead>\n",
              "    <tr style=\"text-align: right;\">\n",
              "      <th></th>\n",
              "      <th>time_id</th>\n",
              "      <th>seconds_in_bucket</th>\n",
              "      <th>price</th>\n",
              "      <th>size</th>\n",
              "      <th>order_count</th>\n",
              "    </tr>\n",
              "  </thead>\n",
              "  <tbody>\n",
              "    <tr>\n",
              "      <th>0</th>\n",
              "      <td>4</td>\n",
              "      <td>7</td>\n",
              "      <td>1.000344</td>\n",
              "      <td>1</td>\n",
              "      <td>1</td>\n",
              "    </tr>\n",
              "    <tr>\n",
              "      <th>1</th>\n",
              "      <td>4</td>\n",
              "      <td>24</td>\n",
              "      <td>1.000049</td>\n",
              "      <td>100</td>\n",
              "      <td>7</td>\n",
              "    </tr>\n",
              "    <tr>\n",
              "      <th>2</th>\n",
              "      <td>4</td>\n",
              "      <td>27</td>\n",
              "      <td>1.000059</td>\n",
              "      <td>100</td>\n",
              "      <td>3</td>\n",
              "    </tr>\n",
              "  </tbody>\n",
              "</table>\n",
              "</div>"
            ],
            "text/plain": [
              "   time_id  seconds_in_bucket     price  size  order_count\n",
              "0        4                  7  1.000344     1            1\n",
              "1        4                 24  1.000049   100            7\n",
              "2        4                 27  1.000059   100            3"
            ]
          },
          "metadata": {
            "tags": []
          },
          "execution_count": 5
        }
      ]
    },
    {
      "cell_type": "code",
      "metadata": {
        "colab": {
          "base_uri": "https://localhost:8080/",
          "height": 419
        },
        "id": "BfR6lVNM_xCD",
        "outputId": "ef93180b-93a3-4fb0-9ee6-8e6cf9295632"
      },
      "source": [
        "train = pd.read_csv(\"drive/My Drive/machine/SIgnate/Competition/optiver-realized-volatility-prediction/train.csv\")\n",
        "train"
      ],
      "execution_count": 6,
      "outputs": [
        {
          "output_type": "execute_result",
          "data": {
            "text/html": [
              "<div>\n",
              "<style scoped>\n",
              "    .dataframe tbody tr th:only-of-type {\n",
              "        vertical-align: middle;\n",
              "    }\n",
              "\n",
              "    .dataframe tbody tr th {\n",
              "        vertical-align: top;\n",
              "    }\n",
              "\n",
              "    .dataframe thead th {\n",
              "        text-align: right;\n",
              "    }\n",
              "</style>\n",
              "<table border=\"1\" class=\"dataframe\">\n",
              "  <thead>\n",
              "    <tr style=\"text-align: right;\">\n",
              "      <th></th>\n",
              "      <th>stock_id</th>\n",
              "      <th>time_id</th>\n",
              "      <th>target</th>\n",
              "    </tr>\n",
              "  </thead>\n",
              "  <tbody>\n",
              "    <tr>\n",
              "      <th>0</th>\n",
              "      <td>0</td>\n",
              "      <td>5</td>\n",
              "      <td>0.004136</td>\n",
              "    </tr>\n",
              "    <tr>\n",
              "      <th>1</th>\n",
              "      <td>0</td>\n",
              "      <td>11</td>\n",
              "      <td>0.001445</td>\n",
              "    </tr>\n",
              "    <tr>\n",
              "      <th>2</th>\n",
              "      <td>0</td>\n",
              "      <td>16</td>\n",
              "      <td>0.002168</td>\n",
              "    </tr>\n",
              "    <tr>\n",
              "      <th>3</th>\n",
              "      <td>0</td>\n",
              "      <td>31</td>\n",
              "      <td>0.002195</td>\n",
              "    </tr>\n",
              "    <tr>\n",
              "      <th>4</th>\n",
              "      <td>0</td>\n",
              "      <td>62</td>\n",
              "      <td>0.001747</td>\n",
              "    </tr>\n",
              "    <tr>\n",
              "      <th>...</th>\n",
              "      <td>...</td>\n",
              "      <td>...</td>\n",
              "      <td>...</td>\n",
              "    </tr>\n",
              "    <tr>\n",
              "      <th>428927</th>\n",
              "      <td>126</td>\n",
              "      <td>32751</td>\n",
              "      <td>0.003461</td>\n",
              "    </tr>\n",
              "    <tr>\n",
              "      <th>428928</th>\n",
              "      <td>126</td>\n",
              "      <td>32753</td>\n",
              "      <td>0.003113</td>\n",
              "    </tr>\n",
              "    <tr>\n",
              "      <th>428929</th>\n",
              "      <td>126</td>\n",
              "      <td>32758</td>\n",
              "      <td>0.004070</td>\n",
              "    </tr>\n",
              "    <tr>\n",
              "      <th>428930</th>\n",
              "      <td>126</td>\n",
              "      <td>32763</td>\n",
              "      <td>0.003357</td>\n",
              "    </tr>\n",
              "    <tr>\n",
              "      <th>428931</th>\n",
              "      <td>126</td>\n",
              "      <td>32767</td>\n",
              "      <td>0.002090</td>\n",
              "    </tr>\n",
              "  </tbody>\n",
              "</table>\n",
              "<p>428932 rows × 3 columns</p>\n",
              "</div>"
            ],
            "text/plain": [
              "        stock_id  time_id    target\n",
              "0              0        5  0.004136\n",
              "1              0       11  0.001445\n",
              "2              0       16  0.002168\n",
              "3              0       31  0.002195\n",
              "4              0       62  0.001747\n",
              "...          ...      ...       ...\n",
              "428927       126    32751  0.003461\n",
              "428928       126    32753  0.003113\n",
              "428929       126    32758  0.004070\n",
              "428930       126    32763  0.003357\n",
              "428931       126    32767  0.002090\n",
              "\n",
              "[428932 rows x 3 columns]"
            ]
          },
          "metadata": {
            "tags": []
          },
          "execution_count": 6
        }
      ]
    },
    {
      "cell_type": "code",
      "metadata": {
        "colab": {
          "base_uri": "https://localhost:8080/",
          "height": 419
        },
        "id": "xTirPGjG_8sw",
        "outputId": "4d66091d-1cbf-4f38-e20a-5dc0b7e29ab5"
      },
      "source": [
        "book_example = pd.read_parquet('drive/My Drive/machine/SIgnate/Competition/optiver-realized-volatility-prediction/book_train.parquet/stock_id=0')\n",
        "book_example\n"
      ],
      "execution_count": 7,
      "outputs": [
        {
          "output_type": "execute_result",
          "data": {
            "text/html": [
              "<div>\n",
              "<style scoped>\n",
              "    .dataframe tbody tr th:only-of-type {\n",
              "        vertical-align: middle;\n",
              "    }\n",
              "\n",
              "    .dataframe tbody tr th {\n",
              "        vertical-align: top;\n",
              "    }\n",
              "\n",
              "    .dataframe thead th {\n",
              "        text-align: right;\n",
              "    }\n",
              "</style>\n",
              "<table border=\"1\" class=\"dataframe\">\n",
              "  <thead>\n",
              "    <tr style=\"text-align: right;\">\n",
              "      <th></th>\n",
              "      <th>time_id</th>\n",
              "      <th>seconds_in_bucket</th>\n",
              "      <th>bid_price1</th>\n",
              "      <th>ask_price1</th>\n",
              "      <th>bid_price2</th>\n",
              "      <th>ask_price2</th>\n",
              "      <th>bid_size1</th>\n",
              "      <th>ask_size1</th>\n",
              "      <th>bid_size2</th>\n",
              "      <th>ask_size2</th>\n",
              "    </tr>\n",
              "  </thead>\n",
              "  <tbody>\n",
              "    <tr>\n",
              "      <th>0</th>\n",
              "      <td>5</td>\n",
              "      <td>0</td>\n",
              "      <td>1.001422</td>\n",
              "      <td>1.002301</td>\n",
              "      <td>1.001370</td>\n",
              "      <td>1.002353</td>\n",
              "      <td>3</td>\n",
              "      <td>226</td>\n",
              "      <td>2</td>\n",
              "      <td>100</td>\n",
              "    </tr>\n",
              "    <tr>\n",
              "      <th>1</th>\n",
              "      <td>5</td>\n",
              "      <td>1</td>\n",
              "      <td>1.001422</td>\n",
              "      <td>1.002301</td>\n",
              "      <td>1.001370</td>\n",
              "      <td>1.002353</td>\n",
              "      <td>3</td>\n",
              "      <td>100</td>\n",
              "      <td>2</td>\n",
              "      <td>100</td>\n",
              "    </tr>\n",
              "    <tr>\n",
              "      <th>2</th>\n",
              "      <td>5</td>\n",
              "      <td>5</td>\n",
              "      <td>1.001422</td>\n",
              "      <td>1.002301</td>\n",
              "      <td>1.001370</td>\n",
              "      <td>1.002405</td>\n",
              "      <td>3</td>\n",
              "      <td>100</td>\n",
              "      <td>2</td>\n",
              "      <td>100</td>\n",
              "    </tr>\n",
              "    <tr>\n",
              "      <th>3</th>\n",
              "      <td>5</td>\n",
              "      <td>6</td>\n",
              "      <td>1.001422</td>\n",
              "      <td>1.002301</td>\n",
              "      <td>1.001370</td>\n",
              "      <td>1.002405</td>\n",
              "      <td>3</td>\n",
              "      <td>126</td>\n",
              "      <td>2</td>\n",
              "      <td>100</td>\n",
              "    </tr>\n",
              "    <tr>\n",
              "      <th>4</th>\n",
              "      <td>5</td>\n",
              "      <td>7</td>\n",
              "      <td>1.001422</td>\n",
              "      <td>1.002301</td>\n",
              "      <td>1.001370</td>\n",
              "      <td>1.002405</td>\n",
              "      <td>3</td>\n",
              "      <td>126</td>\n",
              "      <td>2</td>\n",
              "      <td>100</td>\n",
              "    </tr>\n",
              "    <tr>\n",
              "      <th>...</th>\n",
              "      <td>...</td>\n",
              "      <td>...</td>\n",
              "      <td>...</td>\n",
              "      <td>...</td>\n",
              "      <td>...</td>\n",
              "      <td>...</td>\n",
              "      <td>...</td>\n",
              "      <td>...</td>\n",
              "      <td>...</td>\n",
              "      <td>...</td>\n",
              "    </tr>\n",
              "    <tr>\n",
              "      <th>917548</th>\n",
              "      <td>32767</td>\n",
              "      <td>568</td>\n",
              "      <td>0.998275</td>\n",
              "      <td>0.998754</td>\n",
              "      <td>0.997796</td>\n",
              "      <td>0.998946</td>\n",
              "      <td>90</td>\n",
              "      <td>90</td>\n",
              "      <td>48</td>\n",
              "      <td>28</td>\n",
              "    </tr>\n",
              "    <tr>\n",
              "      <th>917549</th>\n",
              "      <td>32767</td>\n",
              "      <td>569</td>\n",
              "      <td>0.998275</td>\n",
              "      <td>0.998754</td>\n",
              "      <td>0.997892</td>\n",
              "      <td>0.998946</td>\n",
              "      <td>91</td>\n",
              "      <td>90</td>\n",
              "      <td>200</td>\n",
              "      <td>28</td>\n",
              "    </tr>\n",
              "    <tr>\n",
              "      <th>917550</th>\n",
              "      <td>32767</td>\n",
              "      <td>571</td>\n",
              "      <td>0.998275</td>\n",
              "      <td>0.998754</td>\n",
              "      <td>0.997892</td>\n",
              "      <td>0.998946</td>\n",
              "      <td>91</td>\n",
              "      <td>90</td>\n",
              "      <td>100</td>\n",
              "      <td>28</td>\n",
              "    </tr>\n",
              "    <tr>\n",
              "      <th>917551</th>\n",
              "      <td>32767</td>\n",
              "      <td>572</td>\n",
              "      <td>0.998275</td>\n",
              "      <td>0.998754</td>\n",
              "      <td>0.997892</td>\n",
              "      <td>0.998946</td>\n",
              "      <td>92</td>\n",
              "      <td>90</td>\n",
              "      <td>100</td>\n",
              "      <td>28</td>\n",
              "    </tr>\n",
              "    <tr>\n",
              "      <th>917552</th>\n",
              "      <td>32767</td>\n",
              "      <td>582</td>\n",
              "      <td>0.998275</td>\n",
              "      <td>0.998754</td>\n",
              "      <td>0.998179</td>\n",
              "      <td>0.998946</td>\n",
              "      <td>92</td>\n",
              "      <td>90</td>\n",
              "      <td>26</td>\n",
              "      <td>28</td>\n",
              "    </tr>\n",
              "  </tbody>\n",
              "</table>\n",
              "<p>917553 rows × 10 columns</p>\n",
              "</div>"
            ],
            "text/plain": [
              "        time_id  seconds_in_bucket  bid_price1  ...  ask_size1  bid_size2  ask_size2\n",
              "0             5                  0    1.001422  ...        226          2        100\n",
              "1             5                  1    1.001422  ...        100          2        100\n",
              "2             5                  5    1.001422  ...        100          2        100\n",
              "3             5                  6    1.001422  ...        126          2        100\n",
              "4             5                  7    1.001422  ...        126          2        100\n",
              "...         ...                ...         ...  ...        ...        ...        ...\n",
              "917548    32767                568    0.998275  ...         90         48         28\n",
              "917549    32767                569    0.998275  ...         90        200         28\n",
              "917550    32767                571    0.998275  ...         90        100         28\n",
              "917551    32767                572    0.998275  ...         90        100         28\n",
              "917552    32767                582    0.998275  ...         90         26         28\n",
              "\n",
              "[917553 rows x 10 columns]"
            ]
          },
          "metadata": {
            "tags": []
          },
          "execution_count": 7
        }
      ]
    },
    {
      "cell_type": "code",
      "metadata": {
        "colab": {
          "base_uri": "https://localhost:8080/",
          "height": 419
        },
        "id": "fz5lbgaNAHi5",
        "outputId": "3f41ef79-d622-4767-ab23-a9e7dd1bc32b"
      },
      "source": [
        "trade_example = pd.read_parquet(\"drive/My Drive/machine/SIgnate/Competition/optiver-realized-volatility-prediction/trade_train.parquet/stock_id=0\")\n",
        "trade_example"
      ],
      "execution_count": 8,
      "outputs": [
        {
          "output_type": "execute_result",
          "data": {
            "text/html": [
              "<div>\n",
              "<style scoped>\n",
              "    .dataframe tbody tr th:only-of-type {\n",
              "        vertical-align: middle;\n",
              "    }\n",
              "\n",
              "    .dataframe tbody tr th {\n",
              "        vertical-align: top;\n",
              "    }\n",
              "\n",
              "    .dataframe thead th {\n",
              "        text-align: right;\n",
              "    }\n",
              "</style>\n",
              "<table border=\"1\" class=\"dataframe\">\n",
              "  <thead>\n",
              "    <tr style=\"text-align: right;\">\n",
              "      <th></th>\n",
              "      <th>time_id</th>\n",
              "      <th>seconds_in_bucket</th>\n",
              "      <th>price</th>\n",
              "      <th>size</th>\n",
              "      <th>order_count</th>\n",
              "    </tr>\n",
              "  </thead>\n",
              "  <tbody>\n",
              "    <tr>\n",
              "      <th>0</th>\n",
              "      <td>5</td>\n",
              "      <td>21</td>\n",
              "      <td>1.002301</td>\n",
              "      <td>326</td>\n",
              "      <td>12</td>\n",
              "    </tr>\n",
              "    <tr>\n",
              "      <th>1</th>\n",
              "      <td>5</td>\n",
              "      <td>46</td>\n",
              "      <td>1.002778</td>\n",
              "      <td>128</td>\n",
              "      <td>4</td>\n",
              "    </tr>\n",
              "    <tr>\n",
              "      <th>2</th>\n",
              "      <td>5</td>\n",
              "      <td>50</td>\n",
              "      <td>1.002818</td>\n",
              "      <td>55</td>\n",
              "      <td>1</td>\n",
              "    </tr>\n",
              "    <tr>\n",
              "      <th>3</th>\n",
              "      <td>5</td>\n",
              "      <td>57</td>\n",
              "      <td>1.003155</td>\n",
              "      <td>121</td>\n",
              "      <td>5</td>\n",
              "    </tr>\n",
              "    <tr>\n",
              "      <th>4</th>\n",
              "      <td>5</td>\n",
              "      <td>68</td>\n",
              "      <td>1.003646</td>\n",
              "      <td>4</td>\n",
              "      <td>1</td>\n",
              "    </tr>\n",
              "    <tr>\n",
              "      <th>...</th>\n",
              "      <td>...</td>\n",
              "      <td>...</td>\n",
              "      <td>...</td>\n",
              "      <td>...</td>\n",
              "      <td>...</td>\n",
              "    </tr>\n",
              "    <tr>\n",
              "      <th>123438</th>\n",
              "      <td>32767</td>\n",
              "      <td>471</td>\n",
              "      <td>0.998659</td>\n",
              "      <td>200</td>\n",
              "      <td>3</td>\n",
              "    </tr>\n",
              "    <tr>\n",
              "      <th>123439</th>\n",
              "      <td>32767</td>\n",
              "      <td>517</td>\n",
              "      <td>0.998515</td>\n",
              "      <td>90</td>\n",
              "      <td>1</td>\n",
              "    </tr>\n",
              "    <tr>\n",
              "      <th>123440</th>\n",
              "      <td>32767</td>\n",
              "      <td>523</td>\n",
              "      <td>0.998563</td>\n",
              "      <td>1</td>\n",
              "      <td>1</td>\n",
              "    </tr>\n",
              "    <tr>\n",
              "      <th>123441</th>\n",
              "      <td>32767</td>\n",
              "      <td>542</td>\n",
              "      <td>0.998803</td>\n",
              "      <td>90</td>\n",
              "      <td>4</td>\n",
              "    </tr>\n",
              "    <tr>\n",
              "      <th>123442</th>\n",
              "      <td>32767</td>\n",
              "      <td>567</td>\n",
              "      <td>0.998547</td>\n",
              "      <td>300</td>\n",
              "      <td>3</td>\n",
              "    </tr>\n",
              "  </tbody>\n",
              "</table>\n",
              "<p>123443 rows × 5 columns</p>\n",
              "</div>"
            ],
            "text/plain": [
              "        time_id  seconds_in_bucket     price  size  order_count\n",
              "0             5                 21  1.002301   326           12\n",
              "1             5                 46  1.002778   128            4\n",
              "2             5                 50  1.002818    55            1\n",
              "3             5                 57  1.003155   121            5\n",
              "4             5                 68  1.003646     4            1\n",
              "...         ...                ...       ...   ...          ...\n",
              "123438    32767                471  0.998659   200            3\n",
              "123439    32767                517  0.998515    90            1\n",
              "123440    32767                523  0.998563     1            1\n",
              "123441    32767                542  0.998803    90            4\n",
              "123442    32767                567  0.998547   300            3\n",
              "\n",
              "[123443 rows x 5 columns]"
            ]
          },
          "metadata": {
            "tags": []
          },
          "execution_count": 8
        }
      ]
    },
    {
      "cell_type": "code",
      "metadata": {
        "colab": {
          "base_uri": "https://localhost:8080/",
          "height": 419
        },
        "id": "j0LE__zpAPaM",
        "outputId": "2fdc73a5-8254-4ace-bcf4-32eb11ccc037"
      },
      "source": [
        "train"
      ],
      "execution_count": 9,
      "outputs": [
        {
          "output_type": "execute_result",
          "data": {
            "text/html": [
              "<div>\n",
              "<style scoped>\n",
              "    .dataframe tbody tr th:only-of-type {\n",
              "        vertical-align: middle;\n",
              "    }\n",
              "\n",
              "    .dataframe tbody tr th {\n",
              "        vertical-align: top;\n",
              "    }\n",
              "\n",
              "    .dataframe thead th {\n",
              "        text-align: right;\n",
              "    }\n",
              "</style>\n",
              "<table border=\"1\" class=\"dataframe\">\n",
              "  <thead>\n",
              "    <tr style=\"text-align: right;\">\n",
              "      <th></th>\n",
              "      <th>stock_id</th>\n",
              "      <th>time_id</th>\n",
              "      <th>target</th>\n",
              "    </tr>\n",
              "  </thead>\n",
              "  <tbody>\n",
              "    <tr>\n",
              "      <th>0</th>\n",
              "      <td>0</td>\n",
              "      <td>5</td>\n",
              "      <td>0.004136</td>\n",
              "    </tr>\n",
              "    <tr>\n",
              "      <th>1</th>\n",
              "      <td>0</td>\n",
              "      <td>11</td>\n",
              "      <td>0.001445</td>\n",
              "    </tr>\n",
              "    <tr>\n",
              "      <th>2</th>\n",
              "      <td>0</td>\n",
              "      <td>16</td>\n",
              "      <td>0.002168</td>\n",
              "    </tr>\n",
              "    <tr>\n",
              "      <th>3</th>\n",
              "      <td>0</td>\n",
              "      <td>31</td>\n",
              "      <td>0.002195</td>\n",
              "    </tr>\n",
              "    <tr>\n",
              "      <th>4</th>\n",
              "      <td>0</td>\n",
              "      <td>62</td>\n",
              "      <td>0.001747</td>\n",
              "    </tr>\n",
              "    <tr>\n",
              "      <th>...</th>\n",
              "      <td>...</td>\n",
              "      <td>...</td>\n",
              "      <td>...</td>\n",
              "    </tr>\n",
              "    <tr>\n",
              "      <th>428927</th>\n",
              "      <td>126</td>\n",
              "      <td>32751</td>\n",
              "      <td>0.003461</td>\n",
              "    </tr>\n",
              "    <tr>\n",
              "      <th>428928</th>\n",
              "      <td>126</td>\n",
              "      <td>32753</td>\n",
              "      <td>0.003113</td>\n",
              "    </tr>\n",
              "    <tr>\n",
              "      <th>428929</th>\n",
              "      <td>126</td>\n",
              "      <td>32758</td>\n",
              "      <td>0.004070</td>\n",
              "    </tr>\n",
              "    <tr>\n",
              "      <th>428930</th>\n",
              "      <td>126</td>\n",
              "      <td>32763</td>\n",
              "      <td>0.003357</td>\n",
              "    </tr>\n",
              "    <tr>\n",
              "      <th>428931</th>\n",
              "      <td>126</td>\n",
              "      <td>32767</td>\n",
              "      <td>0.002090</td>\n",
              "    </tr>\n",
              "  </tbody>\n",
              "</table>\n",
              "<p>428932 rows × 3 columns</p>\n",
              "</div>"
            ],
            "text/plain": [
              "        stock_id  time_id    target\n",
              "0              0        5  0.004136\n",
              "1              0       11  0.001445\n",
              "2              0       16  0.002168\n",
              "3              0       31  0.002195\n",
              "4              0       62  0.001747\n",
              "...          ...      ...       ...\n",
              "428927       126    32751  0.003461\n",
              "428928       126    32753  0.003113\n",
              "428929       126    32758  0.004070\n",
              "428930       126    32763  0.003357\n",
              "428931       126    32767  0.002090\n",
              "\n",
              "[428932 rows x 3 columns]"
            ]
          },
          "metadata": {
            "tags": []
          },
          "execution_count": 9
        }
      ]
    },
    {
      "cell_type": "code",
      "metadata": {
        "colab": {
          "base_uri": "https://localhost:8080/"
        },
        "id": "I_qYHnO2AUq2",
        "outputId": "30c8a83a-52e3-41ba-cc42-1e52bbff561f"
      },
      "source": [
        "for col in train.columns:\n",
        "    print(col,':',len(train[col].unique()))"
      ],
      "execution_count": 10,
      "outputs": [
        {
          "output_type": "stream",
          "text": [
            "stock_id : 112\n",
            "time_id : 3830\n",
            "target : 414287\n"
          ],
          "name": "stdout"
        }
      ]
    },
    {
      "cell_type": "code",
      "metadata": {
        "colab": {
          "base_uri": "https://localhost:8080/",
          "height": 419
        },
        "id": "u-FWbaGtAXV8",
        "outputId": "08194efb-58c8-4b61-c4da-4711efe19c20"
      },
      "source": [
        "stock = train.groupby('stock_id')['target'].agg(['median','mean','std','count','sum']).reset_index()\n",
        "stock\n"
      ],
      "execution_count": 11,
      "outputs": [
        {
          "output_type": "execute_result",
          "data": {
            "text/html": [
              "<div>\n",
              "<style scoped>\n",
              "    .dataframe tbody tr th:only-of-type {\n",
              "        vertical-align: middle;\n",
              "    }\n",
              "\n",
              "    .dataframe tbody tr th {\n",
              "        vertical-align: top;\n",
              "    }\n",
              "\n",
              "    .dataframe thead th {\n",
              "        text-align: right;\n",
              "    }\n",
              "</style>\n",
              "<table border=\"1\" class=\"dataframe\">\n",
              "  <thead>\n",
              "    <tr style=\"text-align: right;\">\n",
              "      <th></th>\n",
              "      <th>stock_id</th>\n",
              "      <th>median</th>\n",
              "      <th>mean</th>\n",
              "      <th>std</th>\n",
              "      <th>count</th>\n",
              "      <th>sum</th>\n",
              "    </tr>\n",
              "  </thead>\n",
              "  <tbody>\n",
              "    <tr>\n",
              "      <th>0</th>\n",
              "      <td>0</td>\n",
              "      <td>0.003180</td>\n",
              "      <td>0.004028</td>\n",
              "      <td>0.002855</td>\n",
              "      <td>3830</td>\n",
              "      <td>15.429071</td>\n",
              "    </tr>\n",
              "    <tr>\n",
              "      <th>1</th>\n",
              "      <td>1</td>\n",
              "      <td>0.003719</td>\n",
              "      <td>0.004362</td>\n",
              "      <td>0.002433</td>\n",
              "      <td>3830</td>\n",
              "      <td>16.704962</td>\n",
              "    </tr>\n",
              "    <tr>\n",
              "      <th>2</th>\n",
              "      <td>2</td>\n",
              "      <td>0.001748</td>\n",
              "      <td>0.002385</td>\n",
              "      <td>0.002339</td>\n",
              "      <td>3830</td>\n",
              "      <td>9.133223</td>\n",
              "    </tr>\n",
              "    <tr>\n",
              "      <th>3</th>\n",
              "      <td>3</td>\n",
              "      <td>0.005422</td>\n",
              "      <td>0.006182</td>\n",
              "      <td>0.003201</td>\n",
              "      <td>3830</td>\n",
              "      <td>23.675414</td>\n",
              "    </tr>\n",
              "    <tr>\n",
              "      <th>4</th>\n",
              "      <td>4</td>\n",
              "      <td>0.003397</td>\n",
              "      <td>0.004197</td>\n",
              "      <td>0.002879</td>\n",
              "      <td>3830</td>\n",
              "      <td>16.073408</td>\n",
              "    </tr>\n",
              "    <tr>\n",
              "      <th>...</th>\n",
              "      <td>...</td>\n",
              "      <td>...</td>\n",
              "      <td>...</td>\n",
              "      <td>...</td>\n",
              "      <td>...</td>\n",
              "      <td>...</td>\n",
              "    </tr>\n",
              "    <tr>\n",
              "      <th>107</th>\n",
              "      <td>122</td>\n",
              "      <td>0.003176</td>\n",
              "      <td>0.003762</td>\n",
              "      <td>0.002300</td>\n",
              "      <td>3830</td>\n",
              "      <td>14.407997</td>\n",
              "    </tr>\n",
              "    <tr>\n",
              "      <th>108</th>\n",
              "      <td>123</td>\n",
              "      <td>0.001967</td>\n",
              "      <td>0.002506</td>\n",
              "      <td>0.001816</td>\n",
              "      <td>3830</td>\n",
              "      <td>9.599594</td>\n",
              "    </tr>\n",
              "    <tr>\n",
              "      <th>109</th>\n",
              "      <td>124</td>\n",
              "      <td>0.003143</td>\n",
              "      <td>0.003691</td>\n",
              "      <td>0.001953</td>\n",
              "      <td>3830</td>\n",
              "      <td>14.135579</td>\n",
              "    </tr>\n",
              "    <tr>\n",
              "      <th>110</th>\n",
              "      <td>125</td>\n",
              "      <td>0.001575</td>\n",
              "      <td>0.002016</td>\n",
              "      <td>0.001703</td>\n",
              "      <td>3830</td>\n",
              "      <td>7.719409</td>\n",
              "    </tr>\n",
              "    <tr>\n",
              "      <th>111</th>\n",
              "      <td>126</td>\n",
              "      <td>0.004443</td>\n",
              "      <td>0.005321</td>\n",
              "      <td>0.003179</td>\n",
              "      <td>3830</td>\n",
              "      <td>20.377571</td>\n",
              "    </tr>\n",
              "  </tbody>\n",
              "</table>\n",
              "<p>112 rows × 6 columns</p>\n",
              "</div>"
            ],
            "text/plain": [
              "     stock_id    median      mean       std  count        sum\n",
              "0           0  0.003180  0.004028  0.002855   3830  15.429071\n",
              "1           1  0.003719  0.004362  0.002433   3830  16.704962\n",
              "2           2  0.001748  0.002385  0.002339   3830   9.133223\n",
              "3           3  0.005422  0.006182  0.003201   3830  23.675414\n",
              "4           4  0.003397  0.004197  0.002879   3830  16.073408\n",
              "..        ...       ...       ...       ...    ...        ...\n",
              "107       122  0.003176  0.003762  0.002300   3830  14.407997\n",
              "108       123  0.001967  0.002506  0.001816   3830   9.599594\n",
              "109       124  0.003143  0.003691  0.001953   3830  14.135579\n",
              "110       125  0.001575  0.002016  0.001703   3830   7.719409\n",
              "111       126  0.004443  0.005321  0.003179   3830  20.377571\n",
              "\n",
              "[112 rows x 6 columns]"
            ]
          },
          "metadata": {
            "tags": []
          },
          "execution_count": 11
        }
      ]
    },
    {
      "cell_type": "code",
      "metadata": {
        "colab": {
          "base_uri": "https://localhost:8080/",
          "height": 367
        },
        "id": "xy0OfPFwAweH",
        "outputId": "0a4990a1-7f4c-497f-9243-1dc7779a226c"
      },
      "source": [
        "print('mean_value=',stock['mean'].mean())\n",
        "plt.hist(stock['mean'])"
      ],
      "execution_count": 12,
      "outputs": [
        {
          "output_type": "stream",
          "text": [
            "mean_value= 0.0038805243039130312\n"
          ],
          "name": "stdout"
        },
        {
          "output_type": "execute_result",
          "data": {
            "text/plain": [
              "(array([ 5., 25., 25., 22., 18.,  8.,  3.,  4.,  1.,  1.]),\n",
              " array([0.00147492, 0.00219811, 0.0029213 , 0.00364449, 0.00436768,\n",
              "        0.00509087, 0.00581406, 0.00653724, 0.00726043, 0.00798362,\n",
              "        0.00870681]),\n",
              " <a list of 10 Patch objects>)"
            ]
          },
          "metadata": {
            "tags": []
          },
          "execution_count": 12
        },
        {
          "output_type": "display_data",
          "data": {
            "image/png": "[encoded data removed]",
            "text/plain": [
              "<Figure size 432x288 with 1 Axes>"
            ]
          },
          "metadata": {
            "tags": [],
            "needs_background": "light"
          }
        }
      ]
    },
    {
      "cell_type": "code",
      "metadata": {
        "colab": {
          "base_uri": "https://localhost:8080/",
          "height": 367
        },
        "id": "AtaxiRYlAzrX",
        "outputId": "5240793b-070c-43fa-aaee-b1180612b14c"
      },
      "source": [
        "print('stock_sum=',stock['sum'].mean())\n",
        "plt.hist(stock['sum'])\n"
      ],
      "execution_count": 13,
      "outputs": [
        {
          "output_type": "stream",
          "text": [
            "stock_sum= 14.860998424142867\n"
          ],
          "name": "stdout"
        },
        {
          "output_type": "execute_result",
          "data": {
            "text/plain": [
              "(array([ 5., 25., 25., 22., 18.,  8.,  3.,  4.,  1.,  1.]),\n",
              " array([ 5.64894774,  8.4187619 , 11.18857607, 13.95839023, 16.72820439,\n",
              "        19.49801856, 22.26783272, 25.03764689, 27.80746105, 30.57727522,\n",
              "        33.34708938]),\n",
              " <a list of 10 Patch objects>)"
            ]
          },
          "metadata": {
            "tags": []
          },
          "execution_count": 13
        },
        {
          "output_type": "display_data",
          "data": {
            "image/png": "[encoded data removed]",
            "text/plain": [
              "<Figure size 432x288 with 1 Axes>"
            ]
          },
          "metadata": {
            "tags": [],
            "needs_background": "light"
          }
        }
      ]
    },
    {
      "cell_type": "code",
      "metadata": {
        "colab": {
          "base_uri": "https://localhost:8080/",
          "height": 367
        },
        "id": "udiwK8ehA5_d",
        "outputId": "792bae80-37c2-4337-c861-38e91f7b5da9"
      },
      "source": [
        "print('stock_sum=',stock['sum'].mean())\n",
        "plt.hist(stock['sum'])"
      ],
      "execution_count": 15,
      "outputs": [
        {
          "output_type": "stream",
          "text": [
            "stock_sum= 14.860998424142867\n"
          ],
          "name": "stdout"
        },
        {
          "output_type": "execute_result",
          "data": {
            "text/plain": [
              "(array([ 5., 25., 25., 22., 18.,  8.,  3.,  4.,  1.,  1.]),\n",
              " array([ 5.64894774,  8.4187619 , 11.18857607, 13.95839023, 16.72820439,\n",
              "        19.49801856, 22.26783272, 25.03764689, 27.80746105, 30.57727522,\n",
              "        33.34708938]),\n",
              " <a list of 10 Patch objects>)"
            ]
          },
          "metadata": {
            "tags": []
          },
          "execution_count": 15
        },
        {
          "output_type": "display_data",
          "data": {
            "image/png": "[encoded data removed]",
            "text/plain": [
              "<Figure size 432x288 with 1 Axes>"
            ]
          },
          "metadata": {
            "tags": [],
            "needs_background": "light"
          }
        }
      ]
    },
    {
      "cell_type": "code",
      "metadata": {
        "colab": {
          "base_uri": "https://localhost:8080/",
          "height": 419
        },
        "id": "hqZ28qX_A9PT",
        "outputId": "fb9a6da5-1203-4c68-fae7-73a1415f10eb"
      },
      "source": [
        "book_example"
      ],
      "execution_count": 16,
      "outputs": [
        {
          "output_type": "execute_result",
          "data": {
            "text/html": [
              "<div>\n",
              "<style scoped>\n",
              "    .dataframe tbody tr th:only-of-type {\n",
              "        vertical-align: middle;\n",
              "    }\n",
              "\n",
              "    .dataframe tbody tr th {\n",
              "        vertical-align: top;\n",
              "    }\n",
              "\n",
              "    .dataframe thead th {\n",
              "        text-align: right;\n",
              "    }\n",
              "</style>\n",
              "<table border=\"1\" class=\"dataframe\">\n",
              "  <thead>\n",
              "    <tr style=\"text-align: right;\">\n",
              "      <th></th>\n",
              "      <th>time_id</th>\n",
              "      <th>seconds_in_bucket</th>\n",
              "      <th>bid_price1</th>\n",
              "      <th>ask_price1</th>\n",
              "      <th>bid_price2</th>\n",
              "      <th>ask_price2</th>\n",
              "      <th>bid_size1</th>\n",
              "      <th>ask_size1</th>\n",
              "      <th>bid_size2</th>\n",
              "      <th>ask_size2</th>\n",
              "    </tr>\n",
              "  </thead>\n",
              "  <tbody>\n",
              "    <tr>\n",
              "      <th>0</th>\n",
              "      <td>5</td>\n",
              "      <td>0</td>\n",
              "      <td>1.001422</td>\n",
              "      <td>1.002301</td>\n",
              "      <td>1.001370</td>\n",
              "      <td>1.002353</td>\n",
              "      <td>3</td>\n",
              "      <td>226</td>\n",
              "      <td>2</td>\n",
              "      <td>100</td>\n",
              "    </tr>\n",
              "    <tr>\n",
              "      <th>1</th>\n",
              "      <td>5</td>\n",
              "      <td>1</td>\n",
              "      <td>1.001422</td>\n",
              "      <td>1.002301</td>\n",
              "      <td>1.001370</td>\n",
              "      <td>1.002353</td>\n",
              "      <td>3</td>\n",
              "      <td>100</td>\n",
              "      <td>2</td>\n",
              "      <td>100</td>\n",
              "    </tr>\n",
              "    <tr>\n",
              "      <th>2</th>\n",
              "      <td>5</td>\n",
              "      <td>5</td>\n",
              "      <td>1.001422</td>\n",
              "      <td>1.002301</td>\n",
              "      <td>1.001370</td>\n",
              "      <td>1.002405</td>\n",
              "      <td>3</td>\n",
              "      <td>100</td>\n",
              "      <td>2</td>\n",
              "      <td>100</td>\n",
              "    </tr>\n",
              "    <tr>\n",
              "      <th>3</th>\n",
              "      <td>5</td>\n",
              "      <td>6</td>\n",
              "      <td>1.001422</td>\n",
              "      <td>1.002301</td>\n",
              "      <td>1.001370</td>\n",
              "      <td>1.002405</td>\n",
              "      <td>3</td>\n",
              "      <td>126</td>\n",
              "      <td>2</td>\n",
              "      <td>100</td>\n",
              "    </tr>\n",
              "    <tr>\n",
              "      <th>4</th>\n",
              "      <td>5</td>\n",
              "      <td>7</td>\n",
              "      <td>1.001422</td>\n",
              "      <td>1.002301</td>\n",
              "      <td>1.001370</td>\n",
              "      <td>1.002405</td>\n",
              "      <td>3</td>\n",
              "      <td>126</td>\n",
              "      <td>2</td>\n",
              "      <td>100</td>\n",
              "    </tr>\n",
              "    <tr>\n",
              "      <th>...</th>\n",
              "      <td>...</td>\n",
              "      <td>...</td>\n",
              "      <td>...</td>\n",
              "      <td>...</td>\n",
              "      <td>...</td>\n",
              "      <td>...</td>\n",
              "      <td>...</td>\n",
              "      <td>...</td>\n",
              "      <td>...</td>\n",
              "      <td>...</td>\n",
              "    </tr>\n",
              "    <tr>\n",
              "      <th>917548</th>\n",
              "      <td>32767</td>\n",
              "      <td>568</td>\n",
              "      <td>0.998275</td>\n",
              "      <td>0.998754</td>\n",
              "      <td>0.997796</td>\n",
              "      <td>0.998946</td>\n",
              "      <td>90</td>\n",
              "      <td>90</td>\n",
              "      <td>48</td>\n",
              "      <td>28</td>\n",
              "    </tr>\n",
              "    <tr>\n",
              "      <th>917549</th>\n",
              "      <td>32767</td>\n",
              "      <td>569</td>\n",
              "      <td>0.998275</td>\n",
              "      <td>0.998754</td>\n",
              "      <td>0.997892</td>\n",
              "      <td>0.998946</td>\n",
              "      <td>91</td>\n",
              "      <td>90</td>\n",
              "      <td>200</td>\n",
              "      <td>28</td>\n",
              "    </tr>\n",
              "    <tr>\n",
              "      <th>917550</th>\n",
              "      <td>32767</td>\n",
              "      <td>571</td>\n",
              "      <td>0.998275</td>\n",
              "      <td>0.998754</td>\n",
              "      <td>0.997892</td>\n",
              "      <td>0.998946</td>\n",
              "      <td>91</td>\n",
              "      <td>90</td>\n",
              "      <td>100</td>\n",
              "      <td>28</td>\n",
              "    </tr>\n",
              "    <tr>\n",
              "      <th>917551</th>\n",
              "      <td>32767</td>\n",
              "      <td>572</td>\n",
              "      <td>0.998275</td>\n",
              "      <td>0.998754</td>\n",
              "      <td>0.997892</td>\n",
              "      <td>0.998946</td>\n",
              "      <td>92</td>\n",
              "      <td>90</td>\n",
              "      <td>100</td>\n",
              "      <td>28</td>\n",
              "    </tr>\n",
              "    <tr>\n",
              "      <th>917552</th>\n",
              "      <td>32767</td>\n",
              "      <td>582</td>\n",
              "      <td>0.998275</td>\n",
              "      <td>0.998754</td>\n",
              "      <td>0.998179</td>\n",
              "      <td>0.998946</td>\n",
              "      <td>92</td>\n",
              "      <td>90</td>\n",
              "      <td>26</td>\n",
              "      <td>28</td>\n",
              "    </tr>\n",
              "  </tbody>\n",
              "</table>\n",
              "<p>917553 rows × 10 columns</p>\n",
              "</div>"
            ],
            "text/plain": [
              "        time_id  seconds_in_bucket  bid_price1  ...  ask_size1  bid_size2  ask_size2\n",
              "0             5                  0    1.001422  ...        226          2        100\n",
              "1             5                  1    1.001422  ...        100          2        100\n",
              "2             5                  5    1.001422  ...        100          2        100\n",
              "3             5                  6    1.001422  ...        126          2        100\n",
              "4             5                  7    1.001422  ...        126          2        100\n",
              "...         ...                ...         ...  ...        ...        ...        ...\n",
              "917548    32767                568    0.998275  ...         90         48         28\n",
              "917549    32767                569    0.998275  ...         90        200         28\n",
              "917550    32767                571    0.998275  ...         90        100         28\n",
              "917551    32767                572    0.998275  ...         90        100         28\n",
              "917552    32767                582    0.998275  ...         90         26         28\n",
              "\n",
              "[917553 rows x 10 columns]"
            ]
          },
          "metadata": {
            "tags": []
          },
          "execution_count": 16
        }
      ]
    },
    {
      "cell_type": "code",
      "metadata": {
        "colab": {
          "base_uri": "https://localhost:8080/",
          "height": 419
        },
        "id": "kkuWnvK9BEHc",
        "outputId": "143110df-b6dd-4eb0-8e51-209c3f2c5725"
      },
      "source": [
        "book_test = book_example.query('time_id ==5',engine='python')\n",
        "book_test"
      ],
      "execution_count": 17,
      "outputs": [
        {
          "output_type": "execute_result",
          "data": {
            "text/html": [
              "<div>\n",
              "<style scoped>\n",
              "    .dataframe tbody tr th:only-of-type {\n",
              "        vertical-align: middle;\n",
              "    }\n",
              "\n",
              "    .dataframe tbody tr th {\n",
              "        vertical-align: top;\n",
              "    }\n",
              "\n",
              "    .dataframe thead th {\n",
              "        text-align: right;\n",
              "    }\n",
              "</style>\n",
              "<table border=\"1\" class=\"dataframe\">\n",
              "  <thead>\n",
              "    <tr style=\"text-align: right;\">\n",
              "      <th></th>\n",
              "      <th>time_id</th>\n",
              "      <th>seconds_in_bucket</th>\n",
              "      <th>bid_price1</th>\n",
              "      <th>ask_price1</th>\n",
              "      <th>bid_price2</th>\n",
              "      <th>ask_price2</th>\n",
              "      <th>bid_size1</th>\n",
              "      <th>ask_size1</th>\n",
              "      <th>bid_size2</th>\n",
              "      <th>ask_size2</th>\n",
              "    </tr>\n",
              "  </thead>\n",
              "  <tbody>\n",
              "    <tr>\n",
              "      <th>0</th>\n",
              "      <td>5</td>\n",
              "      <td>0</td>\n",
              "      <td>1.001422</td>\n",
              "      <td>1.002301</td>\n",
              "      <td>1.001370</td>\n",
              "      <td>1.002353</td>\n",
              "      <td>3</td>\n",
              "      <td>226</td>\n",
              "      <td>2</td>\n",
              "      <td>100</td>\n",
              "    </tr>\n",
              "    <tr>\n",
              "      <th>1</th>\n",
              "      <td>5</td>\n",
              "      <td>1</td>\n",
              "      <td>1.001422</td>\n",
              "      <td>1.002301</td>\n",
              "      <td>1.001370</td>\n",
              "      <td>1.002353</td>\n",
              "      <td>3</td>\n",
              "      <td>100</td>\n",
              "      <td>2</td>\n",
              "      <td>100</td>\n",
              "    </tr>\n",
              "    <tr>\n",
              "      <th>2</th>\n",
              "      <td>5</td>\n",
              "      <td>5</td>\n",
              "      <td>1.001422</td>\n",
              "      <td>1.002301</td>\n",
              "      <td>1.001370</td>\n",
              "      <td>1.002405</td>\n",
              "      <td>3</td>\n",
              "      <td>100</td>\n",
              "      <td>2</td>\n",
              "      <td>100</td>\n",
              "    </tr>\n",
              "    <tr>\n",
              "      <th>3</th>\n",
              "      <td>5</td>\n",
              "      <td>6</td>\n",
              "      <td>1.001422</td>\n",
              "      <td>1.002301</td>\n",
              "      <td>1.001370</td>\n",
              "      <td>1.002405</td>\n",
              "      <td>3</td>\n",
              "      <td>126</td>\n",
              "      <td>2</td>\n",
              "      <td>100</td>\n",
              "    </tr>\n",
              "    <tr>\n",
              "      <th>4</th>\n",
              "      <td>5</td>\n",
              "      <td>7</td>\n",
              "      <td>1.001422</td>\n",
              "      <td>1.002301</td>\n",
              "      <td>1.001370</td>\n",
              "      <td>1.002405</td>\n",
              "      <td>3</td>\n",
              "      <td>126</td>\n",
              "      <td>2</td>\n",
              "      <td>100</td>\n",
              "    </tr>\n",
              "    <tr>\n",
              "      <th>...</th>\n",
              "      <td>...</td>\n",
              "      <td>...</td>\n",
              "      <td>...</td>\n",
              "      <td>...</td>\n",
              "      <td>...</td>\n",
              "      <td>...</td>\n",
              "      <td>...</td>\n",
              "      <td>...</td>\n",
              "      <td>...</td>\n",
              "      <td>...</td>\n",
              "    </tr>\n",
              "    <tr>\n",
              "      <th>297</th>\n",
              "      <td>5</td>\n",
              "      <td>585</td>\n",
              "      <td>1.003129</td>\n",
              "      <td>1.003749</td>\n",
              "      <td>1.003025</td>\n",
              "      <td>1.003801</td>\n",
              "      <td>100</td>\n",
              "      <td>3</td>\n",
              "      <td>26</td>\n",
              "      <td>3</td>\n",
              "    </tr>\n",
              "    <tr>\n",
              "      <th>298</th>\n",
              "      <td>5</td>\n",
              "      <td>586</td>\n",
              "      <td>1.003129</td>\n",
              "      <td>1.003749</td>\n",
              "      <td>1.002612</td>\n",
              "      <td>1.003801</td>\n",
              "      <td>100</td>\n",
              "      <td>3</td>\n",
              "      <td>2</td>\n",
              "      <td>3</td>\n",
              "    </tr>\n",
              "    <tr>\n",
              "      <th>299</th>\n",
              "      <td>5</td>\n",
              "      <td>587</td>\n",
              "      <td>1.003129</td>\n",
              "      <td>1.003749</td>\n",
              "      <td>1.003025</td>\n",
              "      <td>1.003801</td>\n",
              "      <td>100</td>\n",
              "      <td>3</td>\n",
              "      <td>26</td>\n",
              "      <td>3</td>\n",
              "    </tr>\n",
              "    <tr>\n",
              "      <th>300</th>\n",
              "      <td>5</td>\n",
              "      <td>588</td>\n",
              "      <td>1.003129</td>\n",
              "      <td>1.003749</td>\n",
              "      <td>1.002612</td>\n",
              "      <td>1.003801</td>\n",
              "      <td>100</td>\n",
              "      <td>3</td>\n",
              "      <td>2</td>\n",
              "      <td>3</td>\n",
              "    </tr>\n",
              "    <tr>\n",
              "      <th>301</th>\n",
              "      <td>5</td>\n",
              "      <td>593</td>\n",
              "      <td>1.003129</td>\n",
              "      <td>1.003749</td>\n",
              "      <td>1.003025</td>\n",
              "      <td>1.003801</td>\n",
              "      <td>100</td>\n",
              "      <td>3</td>\n",
              "      <td>26</td>\n",
              "      <td>3</td>\n",
              "    </tr>\n",
              "  </tbody>\n",
              "</table>\n",
              "<p>302 rows × 10 columns</p>\n",
              "</div>"
            ],
            "text/plain": [
              "     time_id  seconds_in_bucket  bid_price1  ...  ask_size1  bid_size2  ask_size2\n",
              "0          5                  0    1.001422  ...        226          2        100\n",
              "1          5                  1    1.001422  ...        100          2        100\n",
              "2          5                  5    1.001422  ...        100          2        100\n",
              "3          5                  6    1.001422  ...        126          2        100\n",
              "4          5                  7    1.001422  ...        126          2        100\n",
              "..       ...                ...         ...  ...        ...        ...        ...\n",
              "297        5                585    1.003129  ...          3         26          3\n",
              "298        5                586    1.003129  ...          3          2          3\n",
              "299        5                587    1.003129  ...          3         26          3\n",
              "300        5                588    1.003129  ...          3          2          3\n",
              "301        5                593    1.003129  ...          3         26          3\n",
              "\n",
              "[302 rows x 10 columns]"
            ]
          },
          "metadata": {
            "tags": []
          },
          "execution_count": 17
        }
      ]
    },
    {
      "cell_type": "code",
      "metadata": {
        "colab": {
          "base_uri": "https://localhost:8080/",
          "height": 744
        },
        "id": "fggOZbbABHOY",
        "outputId": "f1990687-248f-4bc0-9fd5-f9245581cf8b"
      },
      "source": [
        "samples = ['bid_price1','bid_price2','ask_price1','ask_price2']\n",
        "for num,a in enumerate(samples):\n",
        "    plt.figure(figsize=(20,5))#ウインドウ\n",
        "    plt.subplot(4,1,num+1)#１行４列分割でグラフを作成、３つ目の引数はサブ領域の番号\n",
        "    plt.plot(book_test['seconds_in_bucket'],book_test[a])\n",
        "    plt.title(a)\n",
        "plt.show()\n",
        "plt.figure(figsize = (20,5)) \n",
        "\n",
        "for num,a in enumerate(samples):\n",
        "    plt.plot(book_test['seconds_in_bucket'],book_test[a],label=a,)\n",
        "    plt.legend(fontsize=12)"
      ],
      "execution_count": 18,
      "outputs": [
        {
          "output_type": "display_data",
          "data": {
            "image/png": "[encoded data removed]",
            "text/plain": [
              "<Figure size 1440x360 with 1 Axes>"
            ]
          },
          "metadata": {
            "tags": [],
            "needs_background": "light"
          }
        },
        {
          "output_type": "display_data",
          "data": {
            "image/png": "[encoded data removed]",
            "text/plain": [
              "<Figure size 1440x360 with 1 Axes>"
            ]
          },
          "metadata": {
            "tags": [],
            "needs_background": "light"
          }
        },
        {
          "output_type": "display_data",
          "data": {
            "image/png": "[encoded data removed]",
            "text/plain": [
              "<Figure size 1440x360 with 1 Axes>"
            ]
          },
          "metadata": {
            "tags": [],
            "needs_background": "light"
          }
        },
        {
          "output_type": "display_data",
          "data": {
            "image/png": "[encoded data removed]",
            "text/plain": [
              "<Figure size 1440x360 with 1 Axes>"
            ]
          },
          "metadata": {
            "tags": [],
            "needs_background": "light"
          }
        },
        {
          "output_type": "display_data",
          "data": {
            "image/png": "[encoded data removed]",
            "text/plain": [
              "<Figure size 1440x360 with 1 Axes>"
            ]
          },
          "metadata": {
            "tags": [],
            "needs_background": "light"
          }
        }
      ]
    },
    {
      "cell_type": "code",
      "metadata": {
        "colab": {
          "base_uri": "https://localhost:8080/",
          "height": 337
        },
        "id": "yIrEAKGsBK4n",
        "outputId": "2c3cce34-fde0-49d6-de86-65beaa364822"
      },
      "source": [
        "trade_test = trade_example.query('time_id==5',engine='python')\n",
        "\n",
        "plt.figure(figsize=(20,5))\n",
        "\n",
        "for num,a in enumerate(samples):\n",
        "    plt.plot(book_test['seconds_in_bucket'],book_test[a],label=a)\n",
        "\n",
        "plt.plot(trade_test['seconds_in_bucket'],trade_test['price'],label='trade_parquet',lw=10)\n",
        "plt.legend(fontsize=12)"
      ],
      "execution_count": 19,
      "outputs": [
        {
          "output_type": "execute_result",
          "data": {
            "text/plain": [
              "<matplotlib.legend.Legend at 0x7fd16802e5d0>"
            ]
          },
          "metadata": {
            "tags": []
          },
          "execution_count": 19
        },
        {
          "output_type": "display_data",
          "data": {
            "image/png": "[encoded data removed]",
            "text/plain": [
              "<Figure size 1440x360 with 1 Axes>"
            ]
          },
          "metadata": {
            "tags": [],
            "needs_background": "light"
          }
        }
      ]
    },
    {
      "cell_type": "code",
      "metadata": {
        "colab": {
          "base_uri": "https://localhost:8080/",
          "height": 1000
        },
        "id": "o2T7zbItBPdf",
        "outputId": "03727362-09a0-4557-8672-462e79fb96bb"
      },
      "source": [
        "trade_test"
      ],
      "execution_count": 20,
      "outputs": [
        {
          "output_type": "execute_result",
          "data": {
            "text/html": [
              "<div>\n",
              "<style scoped>\n",
              "    .dataframe tbody tr th:only-of-type {\n",
              "        vertical-align: middle;\n",
              "    }\n",
              "\n",
              "    .dataframe tbody tr th {\n",
              "        vertical-align: top;\n",
              "    }\n",
              "\n",
              "    .dataframe thead th {\n",
              "        text-align: right;\n",
              "    }\n",
              "</style>\n",
              "<table border=\"1\" class=\"dataframe\">\n",
              "  <thead>\n",
              "    <tr style=\"text-align: right;\">\n",
              "      <th></th>\n",
              "      <th>time_id</th>\n",
              "      <th>seconds_in_bucket</th>\n",
              "      <th>price</th>\n",
              "      <th>size</th>\n",
              "      <th>order_count</th>\n",
              "    </tr>\n",
              "  </thead>\n",
              "  <tbody>\n",
              "    <tr>\n",
              "      <th>0</th>\n",
              "      <td>5</td>\n",
              "      <td>21</td>\n",
              "      <td>1.002301</td>\n",
              "      <td>326</td>\n",
              "      <td>12</td>\n",
              "    </tr>\n",
              "    <tr>\n",
              "      <th>1</th>\n",
              "      <td>5</td>\n",
              "      <td>46</td>\n",
              "      <td>1.002778</td>\n",
              "      <td>128</td>\n",
              "      <td>4</td>\n",
              "    </tr>\n",
              "    <tr>\n",
              "      <th>2</th>\n",
              "      <td>5</td>\n",
              "      <td>50</td>\n",
              "      <td>1.002818</td>\n",
              "      <td>55</td>\n",
              "      <td>1</td>\n",
              "    </tr>\n",
              "    <tr>\n",
              "      <th>3</th>\n",
              "      <td>5</td>\n",
              "      <td>57</td>\n",
              "      <td>1.003155</td>\n",
              "      <td>121</td>\n",
              "      <td>5</td>\n",
              "    </tr>\n",
              "    <tr>\n",
              "      <th>4</th>\n",
              "      <td>5</td>\n",
              "      <td>68</td>\n",
              "      <td>1.003646</td>\n",
              "      <td>4</td>\n",
              "      <td>1</td>\n",
              "    </tr>\n",
              "    <tr>\n",
              "      <th>5</th>\n",
              "      <td>5</td>\n",
              "      <td>78</td>\n",
              "      <td>1.003762</td>\n",
              "      <td>134</td>\n",
              "      <td>5</td>\n",
              "    </tr>\n",
              "    <tr>\n",
              "      <th>6</th>\n",
              "      <td>5</td>\n",
              "      <td>122</td>\n",
              "      <td>1.004207</td>\n",
              "      <td>102</td>\n",
              "      <td>3</td>\n",
              "    </tr>\n",
              "    <tr>\n",
              "      <th>7</th>\n",
              "      <td>5</td>\n",
              "      <td>127</td>\n",
              "      <td>1.004577</td>\n",
              "      <td>1</td>\n",
              "      <td>1</td>\n",
              "    </tr>\n",
              "    <tr>\n",
              "      <th>8</th>\n",
              "      <td>5</td>\n",
              "      <td>144</td>\n",
              "      <td>1.004370</td>\n",
              "      <td>6</td>\n",
              "      <td>1</td>\n",
              "    </tr>\n",
              "    <tr>\n",
              "      <th>9</th>\n",
              "      <td>5</td>\n",
              "      <td>147</td>\n",
              "      <td>1.003964</td>\n",
              "      <td>233</td>\n",
              "      <td>4</td>\n",
              "    </tr>\n",
              "    <tr>\n",
              "      <th>10</th>\n",
              "      <td>5</td>\n",
              "      <td>177</td>\n",
              "      <td>1.003853</td>\n",
              "      <td>1</td>\n",
              "      <td>1</td>\n",
              "    </tr>\n",
              "    <tr>\n",
              "      <th>11</th>\n",
              "      <td>5</td>\n",
              "      <td>183</td>\n",
              "      <td>1.003956</td>\n",
              "      <td>2</td>\n",
              "      <td>1</td>\n",
              "    </tr>\n",
              "    <tr>\n",
              "      <th>12</th>\n",
              "      <td>5</td>\n",
              "      <td>187</td>\n",
              "      <td>1.004267</td>\n",
              "      <td>165</td>\n",
              "      <td>2</td>\n",
              "    </tr>\n",
              "    <tr>\n",
              "      <th>13</th>\n",
              "      <td>5</td>\n",
              "      <td>207</td>\n",
              "      <td>1.003543</td>\n",
              "      <td>72</td>\n",
              "      <td>4</td>\n",
              "    </tr>\n",
              "    <tr>\n",
              "      <th>14</th>\n",
              "      <td>5</td>\n",
              "      <td>218</td>\n",
              "      <td>1.004155</td>\n",
              "      <td>33</td>\n",
              "      <td>5</td>\n",
              "    </tr>\n",
              "    <tr>\n",
              "      <th>15</th>\n",
              "      <td>5</td>\n",
              "      <td>254</td>\n",
              "      <td>1.003905</td>\n",
              "      <td>100</td>\n",
              "      <td>1</td>\n",
              "    </tr>\n",
              "    <tr>\n",
              "      <th>16</th>\n",
              "      <td>5</td>\n",
              "      <td>263</td>\n",
              "      <td>1.003905</td>\n",
              "      <td>1</td>\n",
              "      <td>1</td>\n",
              "    </tr>\n",
              "    <tr>\n",
              "      <th>17</th>\n",
              "      <td>5</td>\n",
              "      <td>265</td>\n",
              "      <td>1.004111</td>\n",
              "      <td>2</td>\n",
              "      <td>2</td>\n",
              "    </tr>\n",
              "    <tr>\n",
              "      <th>18</th>\n",
              "      <td>5</td>\n",
              "      <td>278</td>\n",
              "      <td>1.004370</td>\n",
              "      <td>106</td>\n",
              "      <td>2</td>\n",
              "    </tr>\n",
              "    <tr>\n",
              "      <th>19</th>\n",
              "      <td>5</td>\n",
              "      <td>331</td>\n",
              "      <td>1.004680</td>\n",
              "      <td>3</td>\n",
              "      <td>2</td>\n",
              "    </tr>\n",
              "    <tr>\n",
              "      <th>20</th>\n",
              "      <td>5</td>\n",
              "      <td>366</td>\n",
              "      <td>1.004215</td>\n",
              "      <td>6</td>\n",
              "      <td>2</td>\n",
              "    </tr>\n",
              "    <tr>\n",
              "      <th>21</th>\n",
              "      <td>5</td>\n",
              "      <td>380</td>\n",
              "      <td>1.004116</td>\n",
              "      <td>432</td>\n",
              "      <td>9</td>\n",
              "    </tr>\n",
              "    <tr>\n",
              "      <th>22</th>\n",
              "      <td>5</td>\n",
              "      <td>389</td>\n",
              "      <td>1.004422</td>\n",
              "      <td>1</td>\n",
              "      <td>1</td>\n",
              "    </tr>\n",
              "    <tr>\n",
              "      <th>23</th>\n",
              "      <td>5</td>\n",
              "      <td>398</td>\n",
              "      <td>1.004215</td>\n",
              "      <td>100</td>\n",
              "      <td>1</td>\n",
              "    </tr>\n",
              "    <tr>\n",
              "      <th>24</th>\n",
              "      <td>5</td>\n",
              "      <td>430</td>\n",
              "      <td>1.003853</td>\n",
              "      <td>2</td>\n",
              "      <td>1</td>\n",
              "    </tr>\n",
              "    <tr>\n",
              "      <th>25</th>\n",
              "      <td>5</td>\n",
              "      <td>435</td>\n",
              "      <td>1.003905</td>\n",
              "      <td>1</td>\n",
              "      <td>1</td>\n",
              "    </tr>\n",
              "    <tr>\n",
              "      <th>26</th>\n",
              "      <td>5</td>\n",
              "      <td>464</td>\n",
              "      <td>1.003749</td>\n",
              "      <td>2</td>\n",
              "      <td>1</td>\n",
              "    </tr>\n",
              "    <tr>\n",
              "      <th>27</th>\n",
              "      <td>5</td>\n",
              "      <td>470</td>\n",
              "      <td>1.003465</td>\n",
              "      <td>200</td>\n",
              "      <td>7</td>\n",
              "    </tr>\n",
              "    <tr>\n",
              "      <th>28</th>\n",
              "      <td>5</td>\n",
              "      <td>471</td>\n",
              "      <td>1.003646</td>\n",
              "      <td>101</td>\n",
              "      <td>2</td>\n",
              "    </tr>\n",
              "    <tr>\n",
              "      <th>29</th>\n",
              "      <td>5</td>\n",
              "      <td>488</td>\n",
              "      <td>1.003905</td>\n",
              "      <td>2</td>\n",
              "      <td>1</td>\n",
              "    </tr>\n",
              "    <tr>\n",
              "      <th>30</th>\n",
              "      <td>5</td>\n",
              "      <td>514</td>\n",
              "      <td>1.004012</td>\n",
              "      <td>29</td>\n",
              "      <td>3</td>\n",
              "    </tr>\n",
              "    <tr>\n",
              "      <th>31</th>\n",
              "      <td>5</td>\n",
              "      <td>523</td>\n",
              "      <td>1.004008</td>\n",
              "      <td>1</td>\n",
              "      <td>1</td>\n",
              "    </tr>\n",
              "    <tr>\n",
              "      <th>32</th>\n",
              "      <td>5</td>\n",
              "      <td>540</td>\n",
              "      <td>1.003543</td>\n",
              "      <td>4</td>\n",
              "      <td>1</td>\n",
              "    </tr>\n",
              "    <tr>\n",
              "      <th>33</th>\n",
              "      <td>5</td>\n",
              "      <td>549</td>\n",
              "      <td>1.003129</td>\n",
              "      <td>2</td>\n",
              "      <td>1</td>\n",
              "    </tr>\n",
              "    <tr>\n",
              "      <th>34</th>\n",
              "      <td>5</td>\n",
              "      <td>550</td>\n",
              "      <td>1.002799</td>\n",
              "      <td>13</td>\n",
              "      <td>3</td>\n",
              "    </tr>\n",
              "    <tr>\n",
              "      <th>35</th>\n",
              "      <td>5</td>\n",
              "      <td>551</td>\n",
              "      <td>1.002561</td>\n",
              "      <td>154</td>\n",
              "      <td>5</td>\n",
              "    </tr>\n",
              "    <tr>\n",
              "      <th>36</th>\n",
              "      <td>5</td>\n",
              "      <td>562</td>\n",
              "      <td>1.002715</td>\n",
              "      <td>1</td>\n",
              "      <td>1</td>\n",
              "    </tr>\n",
              "    <tr>\n",
              "      <th>37</th>\n",
              "      <td>5</td>\n",
              "      <td>572</td>\n",
              "      <td>1.003191</td>\n",
              "      <td>499</td>\n",
              "      <td>6</td>\n",
              "    </tr>\n",
              "    <tr>\n",
              "      <th>38</th>\n",
              "      <td>5</td>\n",
              "      <td>581</td>\n",
              "      <td>1.003478</td>\n",
              "      <td>8</td>\n",
              "      <td>3</td>\n",
              "    </tr>\n",
              "    <tr>\n",
              "      <th>39</th>\n",
              "      <td>5</td>\n",
              "      <td>585</td>\n",
              "      <td>1.003646</td>\n",
              "      <td>26</td>\n",
              "      <td>2</td>\n",
              "    </tr>\n",
              "  </tbody>\n",
              "</table>\n",
              "</div>"
            ],
            "text/plain": [
              "    time_id  seconds_in_bucket     price  size  order_count\n",
              "0         5                 21  1.002301   326           12\n",
              "1         5                 46  1.002778   128            4\n",
              "2         5                 50  1.002818    55            1\n",
              "3         5                 57  1.003155   121            5\n",
              "4         5                 68  1.003646     4            1\n",
              "5         5                 78  1.003762   134            5\n",
              "6         5                122  1.004207   102            3\n",
              "7         5                127  1.004577     1            1\n",
              "8         5                144  1.004370     6            1\n",
              "9         5                147  1.003964   233            4\n",
              "10        5                177  1.003853     1            1\n",
              "11        5                183  1.003956     2            1\n",
              "12        5                187  1.004267   165            2\n",
              "13        5                207  1.003543    72            4\n",
              "14        5                218  1.004155    33            5\n",
              "15        5                254  1.003905   100            1\n",
              "16        5                263  1.003905     1            1\n",
              "17        5                265  1.004111     2            2\n",
              "18        5                278  1.004370   106            2\n",
              "19        5                331  1.004680     3            2\n",
              "20        5                366  1.004215     6            2\n",
              "21        5                380  1.004116   432            9\n",
              "22        5                389  1.004422     1            1\n",
              "23        5                398  1.004215   100            1\n",
              "24        5                430  1.003853     2            1\n",
              "25        5                435  1.003905     1            1\n",
              "26        5                464  1.003749     2            1\n",
              "27        5                470  1.003465   200            7\n",
              "28        5                471  1.003646   101            2\n",
              "29        5                488  1.003905     2            1\n",
              "30        5                514  1.004012    29            3\n",
              "31        5                523  1.004008     1            1\n",
              "32        5                540  1.003543     4            1\n",
              "33        5                549  1.003129     2            1\n",
              "34        5                550  1.002799    13            3\n",
              "35        5                551  1.002561   154            5\n",
              "36        5                562  1.002715     1            1\n",
              "37        5                572  1.003191   499            6\n",
              "38        5                581  1.003478     8            3\n",
              "39        5                585  1.003646    26            2"
            ]
          },
          "metadata": {
            "tags": []
          },
          "execution_count": 20
        }
      ]
    },
    {
      "cell_type": "code",
      "metadata": {
        "colab": {
          "base_uri": "https://localhost:8080/"
        },
        "id": "GDC-_RSHBSeE",
        "outputId": "8c207f20-32ca-42c4-e475-f7a74f882131"
      },
      "source": [
        "stock0 = train.query('stock_id==0',engine='python')\n",
        "min_index = stock0['target'].idxmin()#最小値の列名を取得\n",
        "min_time_id = stock0.iloc[min_index]['time_id']#ilocは要素の抽出\n",
        "print('min_time_id is',min_time_id,'target is',stock0.iloc[min_index]['target'])"
      ],
      "execution_count": 21,
      "outputs": [
        {
          "output_type": "stream",
          "text": [
            "min_time_id is 24253.0 target is 0.000593833\n"
          ],
          "name": "stdout"
        }
      ]
    },
    {
      "cell_type": "code",
      "metadata": {
        "colab": {
          "base_uri": "https://localhost:8080/",
          "height": 348
        },
        "id": "NpY4b7YMBVTj",
        "outputId": "40fd3faa-9c09-419c-afea-9df34431cbc4"
      },
      "source": [
        "book_test_min = book_example.query('time_id == @min_time_id',engine = 'python')#変数には@をつける\n",
        "trade_test_min = trade_example.query('time_id== @min_time_id',engine = 'python')\n",
        "\n",
        "plt.figure(figsize =(20,5))\n",
        "\n",
        "for num,a in enumerate(samples):\n",
        "    \n",
        "    plt.plot(book_test_min['seconds_in_bucket'],book_test_min[a],label=a)\n",
        "\n",
        "plt.plot(trade_test_min['seconds_in_bucket'],trade_test_min['price'],label='trade_min_parquet',lw=12)\n",
        "plt.legend(fontsize=12)"
      ],
      "execution_count": 22,
      "outputs": [
        {
          "output_type": "execute_result",
          "data": {
            "text/plain": [
              "<matplotlib.legend.Legend at 0x7fd1667a1310>"
            ]
          },
          "metadata": {
            "tags": []
          },
          "execution_count": 22
        },
        {
          "output_type": "display_data",
          "data": {
            "image/png": "[encoded data removed]",
            "text/plain": [
              "<Figure size 1440x360 with 1 Axes>"
            ]
          },
          "metadata": {
            "tags": [],
            "needs_background": "light"
          }
        }
      ]
    },
    {
      "cell_type": "code",
      "metadata": {
        "colab": {
          "base_uri": "https://localhost:8080/"
        },
        "id": "KzVpiDjMBYBv",
        "outputId": "4c292c3b-0227-45b9-95bb-b90f0e85fa01"
      },
      "source": [
        "max_index = stock0['target'].idxmax()\n",
        "max_time_id = stock0.iloc[max_index]['time_id']\n",
        "print('max_time_id is',max_time_id,'target is',max_index)"
      ],
      "execution_count": 23,
      "outputs": [
        {
          "output_type": "stream",
          "text": [
            "max_time_id is 19725.0 target is 2394\n"
          ],
          "name": "stdout"
        }
      ]
    },
    {
      "cell_type": "code",
      "metadata": {
        "colab": {
          "base_uri": "https://localhost:8080/",
          "height": 337
        },
        "id": "lMGZOt3fBbAY",
        "outputId": "c1616180-4e88-40fc-e7bc-57e9b37b8944"
      },
      "source": [
        "book_test_max =  book_example.query('time_id == @max_time_id',engine = 'python')\n",
        "trade_test_max = trade_example.query('time_id == @max_time_id',engine = 'python')\n",
        "\n",
        "plt.figure(figsize=(20,5))\n",
        "\n",
        "for num,a in enumerate(samples):\n",
        "    plt.plot(book_test_max['seconds_in_bucket'],book_test_max[a],label=a)\n",
        "\n",
        "plt.plot(trade_test_max['seconds_in_bucket'],trade_test_max['price'],label = 'trade_max_parquet',lw=12)\n",
        "plt.legend(fontsize=12)\n"
      ],
      "execution_count": 24,
      "outputs": [
        {
          "output_type": "execute_result",
          "data": {
            "text/plain": [
              "<matplotlib.legend.Legend at 0x7fd1666d2650>"
            ]
          },
          "metadata": {
            "tags": []
          },
          "execution_count": 24
        },
        {
          "output_type": "display_data",
          "data": {
            "image/png": "[encoded data removed]",
            "text/plain": [
              "<Figure size 1440x360 with 1 Axes>"
            ]
          },
          "metadata": {
            "tags": [],
            "needs_background": "light"
          }
        }
      ]
    },
    {
      "cell_type": "code",
      "metadata": {
        "colab": {
          "base_uri": "https://localhost:8080/",
          "height": 337
        },
        "id": "Ffir1hfTBd4W",
        "outputId": "a6d5d298-2233-462a-ed42-574e6c30d140"
      },
      "source": [
        "plt.figure(figsize=(20,5))\n",
        "plt.plot(trade_test_min['seconds_in_bucket'],trade_test_min['price'],label = 'trade_min_valatility',lw=12)\n",
        "plt.plot(trade_test_max['seconds_in_bucket'],trade_test_max['price'],label = 'trade_max_volatility', lw=12)\n",
        "plt.legend(fontsize=12)"
      ],
      "execution_count": 25,
      "outputs": [
        {
          "output_type": "execute_result",
          "data": {
            "text/plain": [
              "<matplotlib.legend.Legend at 0x7fd1665f86d0>"
            ]
          },
          "metadata": {
            "tags": []
          },
          "execution_count": 25
        },
        {
          "output_type": "display_data",
          "data": {
            "image/png": "[encoded data removed]",
            "text/plain": [
              "<Figure size 1440x360 with 1 Axes>"
            ]
          },
          "metadata": {
            "tags": [],
            "needs_background": "light"
          }
        }
      ]
    },
    {
      "cell_type": "markdown",
      "metadata": {
        "id": "lbz-sBVzBomI"
      },
      "source": [
        "ボラティリティが高いときは価格変動が起きやすい"
      ]
    },
    {
      "cell_type": "code",
      "metadata": {
        "colab": {
          "base_uri": "https://localhost:8080/",
          "height": 419
        },
        "id": "RfZ1ger-BgWr",
        "outputId": "3243a181-66e7-409c-a25a-aafff08f5b71"
      },
      "source": [
        "stock"
      ],
      "execution_count": 26,
      "outputs": [
        {
          "output_type": "execute_result",
          "data": {
            "text/html": [
              "<div>\n",
              "<style scoped>\n",
              "    .dataframe tbody tr th:only-of-type {\n",
              "        vertical-align: middle;\n",
              "    }\n",
              "\n",
              "    .dataframe tbody tr th {\n",
              "        vertical-align: top;\n",
              "    }\n",
              "\n",
              "    .dataframe thead th {\n",
              "        text-align: right;\n",
              "    }\n",
              "</style>\n",
              "<table border=\"1\" class=\"dataframe\">\n",
              "  <thead>\n",
              "    <tr style=\"text-align: right;\">\n",
              "      <th></th>\n",
              "      <th>stock_id</th>\n",
              "      <th>median</th>\n",
              "      <th>mean</th>\n",
              "      <th>std</th>\n",
              "      <th>count</th>\n",
              "      <th>sum</th>\n",
              "    </tr>\n",
              "  </thead>\n",
              "  <tbody>\n",
              "    <tr>\n",
              "      <th>0</th>\n",
              "      <td>0</td>\n",
              "      <td>0.003180</td>\n",
              "      <td>0.004028</td>\n",
              "      <td>0.002855</td>\n",
              "      <td>3830</td>\n",
              "      <td>15.429071</td>\n",
              "    </tr>\n",
              "    <tr>\n",
              "      <th>1</th>\n",
              "      <td>1</td>\n",
              "      <td>0.003719</td>\n",
              "      <td>0.004362</td>\n",
              "      <td>0.002433</td>\n",
              "      <td>3830</td>\n",
              "      <td>16.704962</td>\n",
              "    </tr>\n",
              "    <tr>\n",
              "      <th>2</th>\n",
              "      <td>2</td>\n",
              "      <td>0.001748</td>\n",
              "      <td>0.002385</td>\n",
              "      <td>0.002339</td>\n",
              "      <td>3830</td>\n",
              "      <td>9.133223</td>\n",
              "    </tr>\n",
              "    <tr>\n",
              "      <th>3</th>\n",
              "      <td>3</td>\n",
              "      <td>0.005422</td>\n",
              "      <td>0.006182</td>\n",
              "      <td>0.003201</td>\n",
              "      <td>3830</td>\n",
              "      <td>23.675414</td>\n",
              "    </tr>\n",
              "    <tr>\n",
              "      <th>4</th>\n",
              "      <td>4</td>\n",
              "      <td>0.003397</td>\n",
              "      <td>0.004197</td>\n",
              "      <td>0.002879</td>\n",
              "      <td>3830</td>\n",
              "      <td>16.073408</td>\n",
              "    </tr>\n",
              "    <tr>\n",
              "      <th>...</th>\n",
              "      <td>...</td>\n",
              "      <td>...</td>\n",
              "      <td>...</td>\n",
              "      <td>...</td>\n",
              "      <td>...</td>\n",
              "      <td>...</td>\n",
              "    </tr>\n",
              "    <tr>\n",
              "      <th>107</th>\n",
              "      <td>122</td>\n",
              "      <td>0.003176</td>\n",
              "      <td>0.003762</td>\n",
              "      <td>0.002300</td>\n",
              "      <td>3830</td>\n",
              "      <td>14.407997</td>\n",
              "    </tr>\n",
              "    <tr>\n",
              "      <th>108</th>\n",
              "      <td>123</td>\n",
              "      <td>0.001967</td>\n",
              "      <td>0.002506</td>\n",
              "      <td>0.001816</td>\n",
              "      <td>3830</td>\n",
              "      <td>9.599594</td>\n",
              "    </tr>\n",
              "    <tr>\n",
              "      <th>109</th>\n",
              "      <td>124</td>\n",
              "      <td>0.003143</td>\n",
              "      <td>0.003691</td>\n",
              "      <td>0.001953</td>\n",
              "      <td>3830</td>\n",
              "      <td>14.135579</td>\n",
              "    </tr>\n",
              "    <tr>\n",
              "      <th>110</th>\n",
              "      <td>125</td>\n",
              "      <td>0.001575</td>\n",
              "      <td>0.002016</td>\n",
              "      <td>0.001703</td>\n",
              "      <td>3830</td>\n",
              "      <td>7.719409</td>\n",
              "    </tr>\n",
              "    <tr>\n",
              "      <th>111</th>\n",
              "      <td>126</td>\n",
              "      <td>0.004443</td>\n",
              "      <td>0.005321</td>\n",
              "      <td>0.003179</td>\n",
              "      <td>3830</td>\n",
              "      <td>20.377571</td>\n",
              "    </tr>\n",
              "  </tbody>\n",
              "</table>\n",
              "<p>112 rows × 6 columns</p>\n",
              "</div>"
            ],
            "text/plain": [
              "     stock_id    median      mean       std  count        sum\n",
              "0           0  0.003180  0.004028  0.002855   3830  15.429071\n",
              "1           1  0.003719  0.004362  0.002433   3830  16.704962\n",
              "2           2  0.001748  0.002385  0.002339   3830   9.133223\n",
              "3           3  0.005422  0.006182  0.003201   3830  23.675414\n",
              "4           4  0.003397  0.004197  0.002879   3830  16.073408\n",
              "..        ...       ...       ...       ...    ...        ...\n",
              "107       122  0.003176  0.003762  0.002300   3830  14.407997\n",
              "108       123  0.001967  0.002506  0.001816   3830   9.599594\n",
              "109       124  0.003143  0.003691  0.001953   3830  14.135579\n",
              "110       125  0.001575  0.002016  0.001703   3830   7.719409\n",
              "111       126  0.004443  0.005321  0.003179   3830  20.377571\n",
              "\n",
              "[112 rows x 6 columns]"
            ]
          },
          "metadata": {
            "tags": []
          },
          "execution_count": 26
        }
      ]
    },
    {
      "cell_type": "code",
      "metadata": {
        "colab": {
          "base_uri": "https://localhost:8080/",
          "height": 450
        },
        "id": "3a4LTQO9Bt9G",
        "outputId": "822a382c-1eb2-45b6-819b-778b611dd044"
      },
      "source": [
        "#submit\n",
        "stock2=stock[['stock_id','median']]\n",
        "stock2=stock2.set_index('stock_id')\n",
        "stock2\n"
      ],
      "execution_count": 27,
      "outputs": [
        {
          "output_type": "execute_result",
          "data": {
            "text/html": [
              "<div>\n",
              "<style scoped>\n",
              "    .dataframe tbody tr th:only-of-type {\n",
              "        vertical-align: middle;\n",
              "    }\n",
              "\n",
              "    .dataframe tbody tr th {\n",
              "        vertical-align: top;\n",
              "    }\n",
              "\n",
              "    .dataframe thead th {\n",
              "        text-align: right;\n",
              "    }\n",
              "</style>\n",
              "<table border=\"1\" class=\"dataframe\">\n",
              "  <thead>\n",
              "    <tr style=\"text-align: right;\">\n",
              "      <th></th>\n",
              "      <th>median</th>\n",
              "    </tr>\n",
              "    <tr>\n",
              "      <th>stock_id</th>\n",
              "      <th></th>\n",
              "    </tr>\n",
              "  </thead>\n",
              "  <tbody>\n",
              "    <tr>\n",
              "      <th>0</th>\n",
              "      <td>0.003180</td>\n",
              "    </tr>\n",
              "    <tr>\n",
              "      <th>1</th>\n",
              "      <td>0.003719</td>\n",
              "    </tr>\n",
              "    <tr>\n",
              "      <th>2</th>\n",
              "      <td>0.001748</td>\n",
              "    </tr>\n",
              "    <tr>\n",
              "      <th>3</th>\n",
              "      <td>0.005422</td>\n",
              "    </tr>\n",
              "    <tr>\n",
              "      <th>4</th>\n",
              "      <td>0.003397</td>\n",
              "    </tr>\n",
              "    <tr>\n",
              "      <th>...</th>\n",
              "      <td>...</td>\n",
              "    </tr>\n",
              "    <tr>\n",
              "      <th>122</th>\n",
              "      <td>0.003176</td>\n",
              "    </tr>\n",
              "    <tr>\n",
              "      <th>123</th>\n",
              "      <td>0.001967</td>\n",
              "    </tr>\n",
              "    <tr>\n",
              "      <th>124</th>\n",
              "      <td>0.003143</td>\n",
              "    </tr>\n",
              "    <tr>\n",
              "      <th>125</th>\n",
              "      <td>0.001575</td>\n",
              "    </tr>\n",
              "    <tr>\n",
              "      <th>126</th>\n",
              "      <td>0.004443</td>\n",
              "    </tr>\n",
              "  </tbody>\n",
              "</table>\n",
              "<p>112 rows × 1 columns</p>\n",
              "</div>"
            ],
            "text/plain": [
              "            median\n",
              "stock_id          \n",
              "0         0.003180\n",
              "1         0.003719\n",
              "2         0.001748\n",
              "3         0.005422\n",
              "4         0.003397\n",
              "...            ...\n",
              "122       0.003176\n",
              "123       0.001967\n",
              "124       0.003143\n",
              "125       0.001575\n",
              "126       0.004443\n",
              "\n",
              "[112 rows x 1 columns]"
            ]
          },
          "metadata": {
            "tags": []
          },
          "execution_count": 27
        }
      ]
    },
    {
      "cell_type": "code",
      "metadata": {
        "colab": {
          "base_uri": "https://localhost:8080/"
        },
        "id": "dwJVDlWdBv_N",
        "outputId": "b5691d06-3a54-4ea4-db33-e5ae626c7ae1"
      },
      "source": [
        "#辞書型にする\n",
        "stock_dict = stock2.to_dict()\n",
        "#example\n",
        "stock_dict"
      ],
      "execution_count": 28,
      "outputs": [
        {
          "output_type": "execute_result",
          "data": {
            "text/plain": [
              "{'median': {0: 0.00317963,\n",
              "  1: 0.0037193545,\n",
              "  2: 0.0017475160000000002,\n",
              "  3: 0.0054220195,\n",
              "  4: 0.0033969760000000003,\n",
              "  5: 0.00433197,\n",
              "  6: 0.0062160645,\n",
              "  7: 0.0027697995000000005,\n",
              "  8: 0.003568252,\n",
              "  9: 0.0047314,\n",
              "  10: 0.0028121025,\n",
              "  11: 0.003771356,\n",
              "  13: 0.001981252,\n",
              "  14: 0.0021647765,\n",
              "  15: 0.0029899295000000003,\n",
              "  16: 0.0033217575,\n",
              "  17: 0.0032944785,\n",
              "  18: 0.0074447075,\n",
              "  19: 0.0022720780000000003,\n",
              "  20: 0.0022925315,\n",
              "  21: 0.002027063,\n",
              "  22: 0.004080189499999999,\n",
              "  23: 0.003597655,\n",
              "  26: 0.002538299,\n",
              "  27: 0.0054865565,\n",
              "  28: 0.0023513305,\n",
              "  29: 0.0015100349999999998,\n",
              "  30: 0.003006717,\n",
              "  31: 0.0030317039999999996,\n",
              "  32: 0.002237557,\n",
              "  33: 0.004650538,\n",
              "  34: 0.0020089920000000002,\n",
              "  35: 0.0024970154999999997,\n",
              "  36: 0.002887965,\n",
              "  37: 0.005581582999999999,\n",
              "  38: 0.003675794,\n",
              "  39: 0.0020067590000000003,\n",
              "  40: 0.0047157035,\n",
              "  41: 0.001660599,\n",
              "  42: 0.0026471285,\n",
              "  43: 0.0011142695,\n",
              "  44: 0.0027712125,\n",
              "  46: 0.001556437,\n",
              "  47: 0.0017984004999999999,\n",
              "  48: 0.002787181,\n",
              "  50: 0.0027377555000000003,\n",
              "  51: 0.0020809075,\n",
              "  52: 0.0025226675,\n",
              "  53: 0.00227896,\n",
              "  55: 0.0042283765,\n",
              "  56: 0.003911027500000001,\n",
              "  58: 0.0030925475,\n",
              "  59: 0.0029515830000000002,\n",
              "  60: 0.00287609,\n",
              "  61: 0.0033743770000000005,\n",
              "  62: 0.004720015,\n",
              "  63: 0.0029252225,\n",
              "  64: 0.0019100965,\n",
              "  66: 0.0028952545,\n",
              "  67: 0.0021653975,\n",
              "  68: 0.002290935,\n",
              "  69: 0.0019232315000000002,\n",
              "  70: 0.00229874,\n",
              "  72: 0.0025483795,\n",
              "  73: 0.0035077915000000003,\n",
              "  74: 0.0029493455,\n",
              "  75: 0.005772601,\n",
              "  76: 0.00352404,\n",
              "  77: 0.00254556,\n",
              "  78: 0.0041873415,\n",
              "  80: 0.006175451,\n",
              "  81: 0.004377147499999999,\n",
              "  82: 0.002692617,\n",
              "  83: 0.0038627475,\n",
              "  84: 0.003310948,\n",
              "  85: 0.0024379055,\n",
              "  86: 0.0023581075,\n",
              "  87: 0.003838475,\n",
              "  88: 0.004102451,\n",
              "  89: 0.0027654425,\n",
              "  90: 0.004290053,\n",
              "  93: 0.001901927,\n",
              "  94: 0.003434106,\n",
              "  95: 0.0026109115000000002,\n",
              "  96: 0.003829043,\n",
              "  97: 0.0054785994999999995,\n",
              "  98: 0.0036324145,\n",
              "  99: 0.0019122705,\n",
              "  100: 0.00395961,\n",
              "  101: 0.003532607,\n",
              "  102: 0.003574065,\n",
              "  103: 0.0039952595,\n",
              "  104: 0.0026622155,\n",
              "  105: 0.002092658,\n",
              "  107: 0.002436675,\n",
              "  108: 0.002509412,\n",
              "  109: 0.0034438895,\n",
              "  110: 0.0036470845,\n",
              "  111: 0.0020709969999999998,\n",
              "  112: 0.0044732075,\n",
              "  113: 0.0036012135000000004,\n",
              "  114: 0.003383915,\n",
              "  115: 0.002412938,\n",
              "  116: 0.003933331,\n",
              "  118: 0.0038139454999999997,\n",
              "  119: 0.002485265,\n",
              "  120: 0.0023361935,\n",
              "  122: 0.0031756445,\n",
              "  123: 0.001967239,\n",
              "  124: 0.0031425175,\n",
              "  125: 0.0015754369999999998,\n",
              "  126: 0.004442527}}"
            ]
          },
          "metadata": {
            "tags": []
          },
          "execution_count": 28
        }
      ]
    },
    {
      "cell_type": "code",
      "metadata": {
        "colab": {
          "base_uri": "https://localhost:8080/",
          "height": 142
        },
        "id": "c0WntaInB1bj",
        "outputId": "49f47014-6614-4f17-ce10-476995355b83"
      },
      "source": [
        "sample"
      ],
      "execution_count": 29,
      "outputs": [
        {
          "output_type": "execute_result",
          "data": {
            "text/html": [
              "<div>\n",
              "<style scoped>\n",
              "    .dataframe tbody tr th:only-of-type {\n",
              "        vertical-align: middle;\n",
              "    }\n",
              "\n",
              "    .dataframe tbody tr th {\n",
              "        vertical-align: top;\n",
              "    }\n",
              "\n",
              "    .dataframe thead th {\n",
              "        text-align: right;\n",
              "    }\n",
              "</style>\n",
              "<table border=\"1\" class=\"dataframe\">\n",
              "  <thead>\n",
              "    <tr style=\"text-align: right;\">\n",
              "      <th></th>\n",
              "      <th>row_id</th>\n",
              "      <th>target</th>\n",
              "    </tr>\n",
              "  </thead>\n",
              "  <tbody>\n",
              "    <tr>\n",
              "      <th>0</th>\n",
              "      <td>0-4</td>\n",
              "      <td>0.003048</td>\n",
              "    </tr>\n",
              "    <tr>\n",
              "      <th>1</th>\n",
              "      <td>0-32</td>\n",
              "      <td>0.003048</td>\n",
              "    </tr>\n",
              "    <tr>\n",
              "      <th>2</th>\n",
              "      <td>0-34</td>\n",
              "      <td>0.003048</td>\n",
              "    </tr>\n",
              "  </tbody>\n",
              "</table>\n",
              "</div>"
            ],
            "text/plain": [
              "  row_id    target\n",
              "0    0-4  0.003048\n",
              "1   0-32  0.003048\n",
              "2   0-34  0.003048"
            ]
          },
          "metadata": {
            "tags": []
          },
          "execution_count": 29
        }
      ]
    },
    {
      "cell_type": "code",
      "metadata": {
        "colab": {
          "base_uri": "https://localhost:8080/",
          "height": 142
        },
        "id": "cUvso01OCd0l",
        "outputId": "89c756a3-802e-4770-fff6-40bafa23788e"
      },
      "source": [
        "sample['stock_id'] = [s.split(\"-\")[0] for s in sample['row_id']]\n",
        "sample"
      ],
      "execution_count": 30,
      "outputs": [
        {
          "output_type": "execute_result",
          "data": {
            "text/html": [
              "<div>\n",
              "<style scoped>\n",
              "    .dataframe tbody tr th:only-of-type {\n",
              "        vertical-align: middle;\n",
              "    }\n",
              "\n",
              "    .dataframe tbody tr th {\n",
              "        vertical-align: top;\n",
              "    }\n",
              "\n",
              "    .dataframe thead th {\n",
              "        text-align: right;\n",
              "    }\n",
              "</style>\n",
              "<table border=\"1\" class=\"dataframe\">\n",
              "  <thead>\n",
              "    <tr style=\"text-align: right;\">\n",
              "      <th></th>\n",
              "      <th>row_id</th>\n",
              "      <th>target</th>\n",
              "      <th>stock_id</th>\n",
              "    </tr>\n",
              "  </thead>\n",
              "  <tbody>\n",
              "    <tr>\n",
              "      <th>0</th>\n",
              "      <td>0-4</td>\n",
              "      <td>0.003048</td>\n",
              "      <td>0</td>\n",
              "    </tr>\n",
              "    <tr>\n",
              "      <th>1</th>\n",
              "      <td>0-32</td>\n",
              "      <td>0.003048</td>\n",
              "      <td>0</td>\n",
              "    </tr>\n",
              "    <tr>\n",
              "      <th>2</th>\n",
              "      <td>0-34</td>\n",
              "      <td>0.003048</td>\n",
              "      <td>0</td>\n",
              "    </tr>\n",
              "  </tbody>\n",
              "</table>\n",
              "</div>"
            ],
            "text/plain": [
              "  row_id    target stock_id\n",
              "0    0-4  0.003048        0\n",
              "1   0-32  0.003048        0\n",
              "2   0-34  0.003048        0"
            ]
          },
          "metadata": {
            "tags": []
          },
          "execution_count": 30
        }
      ]
    },
    {
      "cell_type": "code",
      "metadata": {
        "colab": {
          "base_uri": "https://localhost:8080/",
          "height": 142
        },
        "id": "qHJYAgQFCfcU",
        "outputId": "9f7f7d18-36e2-4a96-f966-d0f221178cdd"
      },
      "source": [
        "sample['target'] = [stock_dict['median'][int(s)] for s in sample['stock_id']]#targetに中央値を入れる\n",
        "sample\n"
      ],
      "execution_count": 31,
      "outputs": [
        {
          "output_type": "execute_result",
          "data": {
            "text/html": [
              "<div>\n",
              "<style scoped>\n",
              "    .dataframe tbody tr th:only-of-type {\n",
              "        vertical-align: middle;\n",
              "    }\n",
              "\n",
              "    .dataframe tbody tr th {\n",
              "        vertical-align: top;\n",
              "    }\n",
              "\n",
              "    .dataframe thead th {\n",
              "        text-align: right;\n",
              "    }\n",
              "</style>\n",
              "<table border=\"1\" class=\"dataframe\">\n",
              "  <thead>\n",
              "    <tr style=\"text-align: right;\">\n",
              "      <th></th>\n",
              "      <th>row_id</th>\n",
              "      <th>target</th>\n",
              "      <th>stock_id</th>\n",
              "    </tr>\n",
              "  </thead>\n",
              "  <tbody>\n",
              "    <tr>\n",
              "      <th>0</th>\n",
              "      <td>0-4</td>\n",
              "      <td>0.00318</td>\n",
              "      <td>0</td>\n",
              "    </tr>\n",
              "    <tr>\n",
              "      <th>1</th>\n",
              "      <td>0-32</td>\n",
              "      <td>0.00318</td>\n",
              "      <td>0</td>\n",
              "    </tr>\n",
              "    <tr>\n",
              "      <th>2</th>\n",
              "      <td>0-34</td>\n",
              "      <td>0.00318</td>\n",
              "      <td>0</td>\n",
              "    </tr>\n",
              "  </tbody>\n",
              "</table>\n",
              "</div>"
            ],
            "text/plain": [
              "  row_id   target stock_id\n",
              "0    0-4  0.00318        0\n",
              "1   0-32  0.00318        0\n",
              "2   0-34  0.00318        0"
            ]
          },
          "metadata": {
            "tags": []
          },
          "execution_count": 31
        }
      ]
    },
    {
      "cell_type": "code",
      "metadata": {
        "colab": {
          "base_uri": "https://localhost:8080/",
          "height": 142
        },
        "id": "AcrfWq-yCkSx",
        "outputId": "65b1e67b-c30f-420a-abae-976a36dd1598"
      },
      "source": [
        "submission = sample.drop('stock_id',axis=1)\n",
        "submission"
      ],
      "execution_count": 32,
      "outputs": [
        {
          "output_type": "execute_result",
          "data": {
            "text/html": [
              "<div>\n",
              "<style scoped>\n",
              "    .dataframe tbody tr th:only-of-type {\n",
              "        vertical-align: middle;\n",
              "    }\n",
              "\n",
              "    .dataframe tbody tr th {\n",
              "        vertical-align: top;\n",
              "    }\n",
              "\n",
              "    .dataframe thead th {\n",
              "        text-align: right;\n",
              "    }\n",
              "</style>\n",
              "<table border=\"1\" class=\"dataframe\">\n",
              "  <thead>\n",
              "    <tr style=\"text-align: right;\">\n",
              "      <th></th>\n",
              "      <th>row_id</th>\n",
              "      <th>target</th>\n",
              "    </tr>\n",
              "  </thead>\n",
              "  <tbody>\n",
              "    <tr>\n",
              "      <th>0</th>\n",
              "      <td>0-4</td>\n",
              "      <td>0.00318</td>\n",
              "    </tr>\n",
              "    <tr>\n",
              "      <th>1</th>\n",
              "      <td>0-32</td>\n",
              "      <td>0.00318</td>\n",
              "    </tr>\n",
              "    <tr>\n",
              "      <th>2</th>\n",
              "      <td>0-34</td>\n",
              "      <td>0.00318</td>\n",
              "    </tr>\n",
              "  </tbody>\n",
              "</table>\n",
              "</div>"
            ],
            "text/plain": [
              "  row_id   target\n",
              "0    0-4  0.00318\n",
              "1   0-32  0.00318\n",
              "2   0-34  0.00318"
            ]
          },
          "metadata": {
            "tags": []
          },
          "execution_count": 32
        }
      ]
    },
    {
      "cell_type": "code",
      "metadata": {
        "id": "xEE_YGOwClEg"
      },
      "source": [
        "submission.to_csv(\"submission.csv\",index=False)"
      ],
      "execution_count": 33,
      "outputs": []
    },
    {
      "cell_type": "code",
      "metadata": {
        "id": "-OTc40pWCnXR"
      },
      "source": [
        ""
      ],
      "execution_count": null,
      "outputs": []
    }
  ]
}