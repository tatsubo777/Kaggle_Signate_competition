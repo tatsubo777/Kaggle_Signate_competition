{
  "metadata": {
    "kernelspec": {
      "language": "python",
      "display_name": "Python 3",
      "name": "python3"
    },
    "language_info": {
      "name": "python",
      "version": "3.7.12",
      "mimetype": "text/x-python",
      "codemirror_mode": {
        "name": "ipython",
        "version": 3
      },
      "pygments_lexer": "ipython3",
      "nbconvert_exporter": "python",
      "file_extension": ".py"
    },
    "colab": {
      "name": "jpx-lightgbm-demo.ipynb",
      "provenance": [],
      "include_colab_link": true
    }
  },
  "nbformat_minor": 0,
  "nbformat": 4,
  "cells": [
    {
      "cell_type": "markdown",
      "metadata": {
        "id": "view-in-github",
        "colab_type": "text"
      },
      "source": [
        "<a href=\"https://colab.research.google.com/github/tatsubo777/Kaggle_Signate_competition/blob/master/jpx_Tokyo_stack_scoring_lightgbm_.ipynb\" target=\"_parent\"><img src=\"https://colab.research.google.com/assets/colab-badge.svg\" alt=\"Open In Colab\"/></a>"
      ]
    },
    {
      "cell_type": "code",
      "source": [
        "from IPython.display import Image"
      ],
      "metadata": {
        "jupyter": {
          "source_hidden": true
        },
        "execution": {
          "iopub.status.busy": "2022-05-14T08:34:09.280839Z",
          "iopub.execute_input": "2022-05-14T08:34:09.281938Z",
          "iopub.status.idle": "2022-05-14T08:34:09.313394Z",
          "shell.execute_reply.started": "2022-05-14T08:34:09.281796Z",
          "shell.execute_reply": "2022-05-14T08:34:09.312631Z"
        },
        "trusted": true,
        "id": "uOSh5UTLXN6r"
      },
      "execution_count": 12,
      "outputs": []
    },
    {
      "cell_type": "markdown",
      "source": [
        "# コンテストの概要\n",
        "* 日本取引所グループ（JPX）による、2000銘柄の証券を対象にした、**証券の値段（終値）の変化率**予測。\n",
        "* **翌日から翌々日にかけての終値**の変化率が目的変数。\n",
        "* 提出データは、目的変数の値そのものではなく、目的変数の値を降順に並べた際の順位。\n",
        "* コンテストについて、より詳しく知りたい場合は[【日本語ver】Easy to understand the competition](https://www.kaggle.com/code/chumajin/ver-easy-to-understand-the-competition)が非常に役に立つと思います。"
      ],
      "metadata": {
        "id": "mZAT9fwfXN6v"
      }
    },
    {
      "cell_type": "markdown",
      "source": [
        "# ノートブックの概要\n",
        "* このノートブックでは[データ読み込み]→[データ統合]→[特徴量エンジニアリング]→[学習]→[推論・評価]→[提出]を一気通貫で行います。\n",
        "* 使用するモデルはLightGBMです。\n",
        "* モデルを3つ生成し、結果をアンサンブルして最終的な推論結果を作成します。\n",
        "\n",
        "推論・評価までの流れは以下の通りです。  \n",
        "赤背景は推論・評価推時のみ使用している関数です。青背景は提出時にも使用している関数・データとなります。  \n",
        "青背景の関数をカスタマイズすることで、様々な特徴量で精度検証ができ、また、そのままSubmitもできるようになっています。"
      ],
      "metadata": {
        "id": "HdY9HYD0XN7H"
      }
    },
    {
      "cell_type": "code",
      "source": [
        "Image('../input/jpx-images/jpx_flow.drawio.png')"
      ],
      "metadata": {
        "jupyter": {
          "source_hidden": true
        },
        "execution": {
          "iopub.status.busy": "2022-05-14T08:34:09.314936Z",
          "iopub.execute_input": "2022-05-14T08:34:09.315940Z",
          "iopub.status.idle": "2022-05-14T08:34:09.355622Z",
          "shell.execute_reply.started": "2022-05-14T08:34:09.315864Z",
          "shell.execute_reply": "2022-05-14T08:34:09.354697Z"
        },
        "trusted": true,
        "colab": {
          "base_uri": "https://localhost:8080/",
          "height": 34
        },
        "id": "6J-kwXoaXN7I",
        "outputId": "f24edaab-8d24-4a23-ce16-3585e6f94e6a"
      },
      "execution_count": 13,
      "outputs": [
        {
          "output_type": "execute_result",
          "data": {
            "text/plain": [
              "<IPython.core.display.Image object>"
            ],
            "image/png": "../input/jpx-images/jpx_flow.drawio.png"
          },
          "metadata": {},
          "execution_count": 13
        }
      ]
    },
    {
      "cell_type": "markdown",
      "source": [
        "# 入力ファイルの概要\n",
        "* `jpx-tokyo-stock-exchange-prediction/`\n",
        "    * `stock_list.csv`:  主な項目は証券コードと証券に関する属性情報。Keyは**SecuritiesCode**。\n",
        "    * `train_files/`:  学習用データ群。Dateの範囲は2017-01-04 ～ 2021-12-03。\n",
        "        * `stock_prices.csv`:  主な項目は証券コードと日単位の証券価格、および、目的変数（Target）。Keyは**Date**と**SecuritiesCode**であり、これらを連結した**RowId**も用意されている。\n",
        "        * `secondary_stock_prices.csv`:  項目は**stock_prices.csv**と同じだが、**stock_prices.csv**の対象とならなかった証券が入っている。Keyは**stock_prices.csv**と同じ。\n",
        "        * `options.csv`:  主な項目はオプション（証券用語）コードと日単位のオプション価格。Keyは**Date**と**OptionsCode**であり、これらを連結した**DateCode**も用意されている。\n",
        "        * `trades.csv`:  主な項目はマーケット毎の前営業週における取引サマリ。Keyは**Date**と**Section**。**Section**を加工することで**stock_list.csv**の**NewMarketSegment**と紐づけることができる。意味のあるレコードの発生は週次。\n",
        "        * `financials.csv`:  主な項目は四半期決算報告の内容。Keyは**Date**と**SecuritiesCode**であり、これらを連結した**DateCode**も用意されている。レコードの発生は四半期毎。\n",
        "    * `supplemental_files/`:  追加の学習用データ群。5月上旬、6月上旬、およびコンテスト終了直前に最新のデータが反映される。2022-04-05時点でのDateの範囲は2021-12-06 ～ 2022-02-28。\n",
        "        * **train_files**配下と同じ形式のファイル群が格納されている\n",
        "        * `example_test_files/`:  評価用データ群（のサンプル）\n",
        "        * **train_files**配下とほぼ（※）同じ形式のファイル群が格納されている\n",
        "        * ※ **stock_prices.csv**と**secondary_stock_prices.csv**から**Target**が削除されている点だけが**train_files**配下と異なる\n",
        "    * `data_specifications/`:  上記ファイル群の項目説明書\n",
        "        * `stock_list_spec.csv`:  **stock_list.csv**の項目説明書\n",
        "        * `stock_prices_spec.csv`:  **stock_prices.csv**、**secondary_stock_prices.csv**の項目説明書\n",
        "        * `options_spec.csv`:  **options.csv**の項目説明書\n",
        "        * `trades_spec.csv`:  **trades.csv**の項目説明書\n",
        "        * `stock_fin_spec.csv`:  **financials.csv**の項目説明書\n",
        "    * `jpx_tokyo_market_prediction/`:時系列API\n",
        "    \n",
        "ファイル間の関係性は以下のようなイメージです"
      ],
      "metadata": {
        "id": "CUeM-U4nXN7J"
      }
    },
    {
      "cell_type": "code",
      "source": [
        "Image('../input/jpx-images/jpx_files.drawio.png')"
      ],
      "metadata": {
        "jupyter": {
          "source_hidden": true
        },
        "execution": {
          "iopub.status.busy": "2022-05-14T08:34:09.356998Z",
          "iopub.execute_input": "2022-05-14T08:34:09.357272Z",
          "iopub.status.idle": "2022-05-14T08:34:09.376915Z",
          "shell.execute_reply.started": "2022-05-14T08:34:09.357239Z",
          "shell.execute_reply": "2022-05-14T08:34:09.376071Z"
        },
        "trusted": true,
        "colab": {
          "base_uri": "https://localhost:8080/",
          "height": 34
        },
        "id": "JXyRROsEXN7K",
        "outputId": "9d98ece0-2cc5-40cf-c78f-b9241d07e8d0"
      },
      "execution_count": 14,
      "outputs": [
        {
          "output_type": "execute_result",
          "data": {
            "text/plain": [
              "<IPython.core.display.Image object>"
            ],
            "image/png": "../input/jpx-images/jpx_files.drawio.png"
          },
          "metadata": {},
          "execution_count": 14
        }
      ]
    },
    {
      "cell_type": "markdown",
      "source": [
        "データの詳細は https://www.kaggle.com/competitions/jpx-tokyo-stock-exchange-prediction/data を参照  \n",
        "時系列APIの使い方は https://www.kaggle.com/competitions/jpx-tokyo-stock-exchange-prediction/overview/evaluation を参照  \n",
        "オプションコード体系の日本語版は https://www.jpx.co.jp/sicc/securities-code/nlsgeu0000032d48-att/(HP)sakimono20220208.pdf を参照  \n",
        "証券コード関係は https://www.jpx.co.jp/sicc/securities-code/01.html を参照"
      ],
      "metadata": {
        "id": "0KWlP5aSXN7L"
      }
    },
    {
      "cell_type": "markdown",
      "source": [
        "# 準備\n",
        "* 使用するライブラリをインポートします"
      ],
      "metadata": {
        "id": "0zX0D-C7XN7N"
      }
    },
    {
      "cell_type": "code",
      "source": [
        "import os\n",
        "from pathlib import Path\n",
        "from decimal import ROUND_HALF_UP, Decimal\n",
        "\n",
        "import pandas as pd\n",
        "import numpy as np\n",
        "from sklearn.metrics import mean_squared_error\n",
        "\n",
        "import matplotlib.pyplot as plt\n",
        "import seaborn as sns\n",
        "\n",
        "import warnings\n",
        "warnings.simplefilter('ignore')"
      ],
      "metadata": {
        "execution": {
          "iopub.status.busy": "2022-05-14T08:34:09.378681Z",
          "iopub.execute_input": "2022-05-14T08:34:09.379336Z",
          "iopub.status.idle": "2022-05-14T08:34:10.669824Z",
          "shell.execute_reply.started": "2022-05-14T08:34:09.379286Z",
          "shell.execute_reply": "2022-05-14T08:34:10.668924Z"
        },
        "trusted": true,
        "id": "Z7iQCqU_XN7O"
      },
      "execution_count": 15,
      "outputs": []
    },
    {
      "cell_type": "code",
      "source": [
        "!pip install kaggle"
      ],
      "metadata": {
        "colab": {
          "base_uri": "https://localhost:8080/"
        },
        "id": "Qu9yM_7TY9vf",
        "outputId": "16b92b2d-560c-4025-c807-9a8618f81536"
      },
      "execution_count": 16,
      "outputs": [
        {
          "output_type": "stream",
          "name": "stdout",
          "text": [
            "Requirement already satisfied: kaggle in /usr/local/lib/python3.7/dist-packages (1.5.12)\n",
            "Requirement already satisfied: six>=1.10 in /usr/local/lib/python3.7/dist-packages (from kaggle) (1.15.0)\n",
            "Requirement already satisfied: urllib3 in /usr/local/lib/python3.7/dist-packages (from kaggle) (1.24.3)\n",
            "Requirement already satisfied: python-dateutil in /usr/local/lib/python3.7/dist-packages (from kaggle) (2.8.2)\n",
            "Requirement already satisfied: requests in /usr/local/lib/python3.7/dist-packages (from kaggle) (2.23.0)\n",
            "Requirement already satisfied: tqdm in /usr/local/lib/python3.7/dist-packages (from kaggle) (4.64.0)\n",
            "Requirement already satisfied: python-slugify in /usr/local/lib/python3.7/dist-packages (from kaggle) (6.1.2)\n",
            "Requirement already satisfied: certifi in /usr/local/lib/python3.7/dist-packages (from kaggle) (2021.10.8)\n",
            "Requirement already satisfied: text-unidecode>=1.3 in /usr/local/lib/python3.7/dist-packages (from python-slugify->kaggle) (1.3)\n",
            "Requirement already satisfied: idna<3,>=2.5 in /usr/local/lib/python3.7/dist-packages (from requests->kaggle) (2.10)\n",
            "Requirement already satisfied: chardet<4,>=3.0.2 in /usr/local/lib/python3.7/dist-packages (from requests->kaggle) (3.0.4)\n"
          ]
        }
      ]
    },
    {
      "cell_type": "code",
      "source": [
        "!chmod 600 /root/.kaggle/kaggle.json"
      ],
      "metadata": {
        "id": "hlr7lNaYY_-h"
      },
      "execution_count": 17,
      "outputs": []
    },
    {
      "cell_type": "code",
      "source": [
        "from google.colab import files\n",
        "\n",
        "uploaded = files.upload()\n",
        "\n",
        "for fn in uploaded.keys():\n",
        "  print('User uploaded file \"{name}\" with length {length} bytes'.format(\n",
        "      name=fn, length=len(uploaded[fn])))\n",
        "\n",
        "# Then move kaggle.json into the folder where the API expects to find it.\n",
        "!mkdir -p ~/.kaggle/ && mv kaggle.json ~/.kaggle/ && chmod 600 ~/.kaggle/kaggle.json"
      ],
      "metadata": {
        "colab": {
          "resources": {
            "http://localhost:8080/nbextensions/google.colab/files.js": {
              "data": "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",
              "ok": true,
              "headers": [
                [
                  "content-type",
                  "application/javascript"
                ]
              ],
              "status": 200,
              "status_text": ""
            }
          },
          "base_uri": "https://localhost:8080/",
          "height": 92
        },
        "id": "4l1CK8ksZD2b",
        "outputId": "7c426f90-6338-4987-9ca3-764581a304e1"
      },
      "execution_count": 18,
      "outputs": [
        {
          "output_type": "display_data",
          "data": {
            "text/plain": [
              "<IPython.core.display.HTML object>"
            ],
            "text/html": [
              "\n",
              "     <input type=\"file\" id=\"files-c2eeeae4-e3c5-481f-86e5-0bbeb28b2572\" name=\"files[]\" multiple disabled\n",
              "        style=\"border:none\" />\n",
              "     <output id=\"result-c2eeeae4-e3c5-481f-86e5-0bbeb28b2572\">\n",
              "      Upload widget is only available when the cell has been executed in the\n",
              "      current browser session. Please rerun this cell to enable.\n",
              "      </output>\n",
              "      <script src=\"/nbextensions/google.colab/files.js\"></script> "
            ]
          },
          "metadata": {}
        },
        {
          "output_type": "stream",
          "name": "stdout",
          "text": [
            "Saving kaggle.json to kaggle.json\n",
            "User uploaded file \"kaggle.json\" with length 65 bytes\n"
          ]
        }
      ]
    },
    {
      "cell_type": "code",
      "source": [
        "!kaggle competitions download -c jpx-tokyo-stock-exchange-prediction"
      ],
      "metadata": {
        "colab": {
          "base_uri": "https://localhost:8080/"
        },
        "id": "EHLUrJMCZH7u",
        "outputId": "6ab2144f-58d4-4deb-beaf-ec3512531ab1"
      },
      "execution_count": 19,
      "outputs": [
        {
          "output_type": "stream",
          "name": "stdout",
          "text": [
            "jpx-tokyo-stock-exchange-prediction.zip: Skipping, found more recently modified local copy (use --force to force download)\n"
          ]
        }
      ]
    },
    {
      "cell_type": "code",
      "source": [
        "!unzip jpx-tokyo-stock-exchange-prediction.zip"
      ],
      "metadata": {
        "colab": {
          "base_uri": "https://localhost:8080/"
        },
        "id": "Hs3aOWZtZKev",
        "outputId": "df02cfaa-042e-44d8-ac8b-681b08a868d5"
      },
      "execution_count": 20,
      "outputs": [
        {
          "output_type": "stream",
          "name": "stdout",
          "text": [
            "Archive:  jpx-tokyo-stock-exchange-prediction.zip\n",
            "replace data_specifications/options_spec.csv? [y]es, [n]o, [A]ll, [N]one, [r]ename: y\n",
            "  inflating: data_specifications/options_spec.csv  \n",
            "replace data_specifications/stock_fin_spec.csv? [y]es, [n]o, [A]ll, [N]one, [r]ename: y\n",
            "  inflating: data_specifications/stock_fin_spec.csv  \n",
            "replace data_specifications/stock_list_spec.csv? [y]es, [n]o, [A]ll, [N]one, [r]ename: y\n",
            "  inflating: data_specifications/stock_list_spec.csv  \n",
            "replace data_specifications/stock_price_spec.csv? [y]es, [n]o, [A]ll, [N]one, [r]ename: y\n",
            "  inflating: data_specifications/stock_price_spec.csv  \n",
            "replace data_specifications/trades_spec.csv? [y]es, [n]o, [A]ll, [N]one, [r]ename: y\n",
            "  inflating: data_specifications/trades_spec.csv  \n",
            "replace example_test_files/financials.csv? [y]es, [n]o, [A]ll, [N]one, [r]ename: y\n",
            "  inflating: example_test_files/financials.csv  \n",
            "replace example_test_files/options.csv? [y]es, [n]o, [A]ll, [N]one, [r]ename: y\n",
            "  inflating: example_test_files/options.csv  \n",
            "replace example_test_files/sample_submission.csv? [y]es, [n]o, [A]ll, [N]one, [r]ename: y\n",
            "  inflating: example_test_files/sample_submission.csv  \n",
            "replace example_test_files/secondary_stock_prices.csv? [y]es, [n]o, [A]ll, [N]one, [r]ename: y\n",
            "  inflating: example_test_files/secondary_stock_prices.csv  \n",
            "replace example_test_files/stock_prices.csv? [y]es, [n]o, [A]ll, [N]one, [r]ename: y\n",
            "  inflating: example_test_files/stock_prices.csv  \n",
            "replace example_test_files/trades.csv? [y]es, [n]o, [A]ll, [N]one, [r]ename: y\n",
            "  inflating: example_test_files/trades.csv  \n",
            "replace jpx_tokyo_market_prediction/__init__.py? [y]es, [n]o, [A]ll, [N]one, [r]ename: y\n",
            "  inflating: jpx_tokyo_market_prediction/__init__.py  \n",
            "replace jpx_tokyo_market_prediction/competition.cpython-37m-x86_64-linux-gnu.so? [y]es, [n]o, [A]ll, [N]one, [r]ename: y\n",
            "  inflating: jpx_tokyo_market_prediction/competition.cpython-37m-x86_64-linux-gnu.so  \n",
            "replace stock_list.csv? [y]es, [n]o, [A]ll, [N]one, [r]ename: y\n",
            "  inflating: stock_list.csv          \n",
            "replace supplemental_files/financials.csv? [y]es, [n]o, [A]ll, [N]one, [r]ename: y\n",
            "  inflating: supplemental_files/financials.csv  \n",
            "replace supplemental_files/options.csv? [y]es, [n]o, [A]ll, [N]one, [r]ename: y\n",
            "  inflating: supplemental_files/options.csv  \n",
            "replace supplemental_files/secondary_stock_prices.csv? [y]es, [n]o, [A]ll, [N]one, [r]ename: y\n",
            "  inflating: supplemental_files/secondary_stock_prices.csv  \n",
            "replace supplemental_files/stock_prices.csv? [y]es, [n]o, [A]ll, [N]one, [r]ename: y\n",
            "  inflating: supplemental_files/stock_prices.csv  \n",
            "replace supplemental_files/trades.csv? [y]es, [n]o, [A]ll, [N]one, [r]ename: y\n",
            "  inflating: supplemental_files/trades.csv  \n",
            "replace train_files/financials.csv? [y]es, [n]o, [A]ll, [N]one, [r]ename: y\n",
            "  inflating: train_files/financials.csv  \n",
            "replace train_files/options.csv? [y]es, [n]o, [A]ll, [N]one, [r]ename: y\n",
            "  inflating: train_files/options.csv  y\n",
            "y\n",
            "y\n",
            "y\n",
            "y\n",
            "y\n",
            "\n",
            "replace train_files/secondary_stock_prices.csv? [y]es, [n]o, [A]ll, [N]one, [r]ename:   inflating: train_files/secondary_stock_prices.csv  \n",
            "replace train_files/stock_prices.csv? [y]es, [n]o, [A]ll, [N]one, [r]ename:   inflating: train_files/stock_prices.csv  y\n",
            "\n",
            "replace train_files/trades.csv? [y]es, [n]o, [A]ll, [N]one, [r]ename:   inflating: train_files/trades.csv  \n"
          ]
        }
      ]
    },
    {
      "cell_type": "markdown",
      "source": [
        "# データ読み込み\n",
        "\n",
        "以下のファイル群を読み込みます。\n",
        "* stock_list.csv\n",
        "* train_files 配下のファイル（Dateの範囲は2017-01-04 ～ 2021-12-03）\n",
        "* supplemental_files 配下のファイル（Dateの範囲は2021-12-06 ～ 2022-02-28 ※2022/04/05現在）"
      ],
      "metadata": {
        "id": "_iBFcFLpXN7P"
      }
    },
    {
      "cell_type": "markdown",
      "source": [
        "## Function"
      ],
      "metadata": {
        "id": "1XAdJ8tmXN7R"
      }
    },
    {
      "cell_type": "code",
      "source": [
        "def read_files(dir_name: str = 'train_files'):\n",
        "  base_path = Path(f'/content/{dir_name}')\n",
        "  prices = pd.read_csv(base_path / 'stock_prices.csv')\n",
        "  options = pd.read_csv(base_path /'options.csv')\n",
        "  financials = pd.read_csv(base_path/'financials.csv')\n",
        "  trades = pd.read_csv(base_path/ 'trades.csv')\n",
        "  secondary_prices = (base_path / 'secondary_stock_prices.csv')\n",
        "  return prices,options,financials,trades,secondary_prices"
      ],
      "metadata": {
        "execution": {
          "iopub.status.busy": "2022-05-14T08:34:10.671591Z",
          "iopub.execute_input": "2022-05-14T08:34:10.671886Z",
          "iopub.status.idle": "2022-05-14T08:34:10.677091Z",
          "shell.execute_reply.started": "2022-05-14T08:34:10.671858Z",
          "shell.execute_reply": "2022-05-14T08:34:10.676346Z"
        },
        "trusted": true,
        "id": "OQ8lSgIGXN7R"
      },
      "execution_count": 21,
      "outputs": []
    },
    {
      "cell_type": "markdown",
      "source": [
        "## Exec"
      ],
      "metadata": {
        "id": "wc6s_smYXN7S"
      }
    },
    {
      "cell_type": "code",
      "source": [
        "%%time\n",
        "\n",
        "stock_list = pd.read_csv('/content/stock_list.csv')\n",
        "train_files = read_files('train_files')\n",
        "supplemental_files = read_files('supplemental_files')"
      ],
      "metadata": {
        "execution": {
          "iopub.status.busy": "2022-05-14T08:34:10.678135Z",
          "iopub.execute_input": "2022-05-14T08:34:10.678412Z",
          "iopub.status.idle": "2022-05-14T08:34:45.195031Z",
          "shell.execute_reply.started": "2022-05-14T08:34:10.678385Z",
          "shell.execute_reply": "2022-05-14T08:34:45.193124Z"
        },
        "trusted": true,
        "colab": {
          "base_uri": "https://localhost:8080/"
        },
        "id": "BQdw7hmcXN7V",
        "outputId": "68259d66-44fa-4b6a-cebd-57167df8cda2"
      },
      "execution_count": 22,
      "outputs": [
        {
          "output_type": "stream",
          "name": "stdout",
          "text": [
            "CPU times: user 16.7 s, sys: 2.43 s, total: 19.1 s\n",
            "Wall time: 19.3 s\n"
          ]
        }
      ]
    },
    {
      "cell_type": "markdown",
      "source": [
        "# データ統合\n",
        "\n",
        "* 読み込んだデータを結合して、一つのファイルに纏めます。"
      ],
      "metadata": {
        "id": "SabkwPAwXN7W"
      }
    },
    {
      "cell_type": "markdown",
      "source": [
        "## Function"
      ],
      "metadata": {
        "id": "TIxAo1lVXN7W"
      }
    },
    {
      "cell_type": "markdown",
      "source": [
        "`merge_data`関数では各ファイルを水平方向に結合します。現時点では`stock_prices`、`stock_list`しか使っていません。  \n",
        "コメントアウトを解除すれば`trades`、`financials`とも結合は可能ですが、  \n",
        "これらのデータは、有効なレコードが発生するタイミングが日次ではないため、学習データとして意味のあるものとするためには「直近に発生した有効なレコードの値を引き継ぐ」などの対処が必要となります。  \n",
        "`options`に関しては、[OptionsCodeの附番規則](https://www.jpx.co.jp/sicc/securities-code/nlsgeu0000032d48-att/(HP)sakimono20220208.pdf)を見ていけば適切な使い方が見えそうです。"
      ],
      "metadata": {
        "id": "nytzLqjdXN7X"
      }
    },
    {
      "cell_type": "code",
      "source": [
        "def merge_data(prices, options, financials, trades, secondary_prices, stock_list):\n",
        "    # stock_prices がベース\n",
        "    base_df = prices.copy()\n",
        "    \n",
        "    # stock_listと結合\n",
        "    _stock_list = stock_list.copy()\n",
        "    _stock_list.rename(columns={'Close': 'Close_x'}, inplace=True)\n",
        "    base_df = base_df.merge(_stock_list, on='SecuritiesCode', how=\"left\")\n",
        "\n",
        "    # tradesと結合\n",
        "    # stock_listのNewMarketSegmentと紐づくよう、tradesのSection項目を編集する\n",
        "    # _trades = trades.copy()\n",
        "    # _trades['NewMarketSegment'] = _trades['Section'].str.split(' \\(', expand=True)[0]\n",
        "    # base_df = base_df.merge(_trades, on=['Date', 'NewMarketSegment'], how=\"left\")\n",
        "\n",
        "    # financialsと結合\n",
        "    # _financials = financials.copy()\n",
        "    # _financials.rename(columns={'Date': 'Date_x', 'SecuritiesCode': 'SecuritiesCode_x'}, inplace=True)\n",
        "    # base_df = base_df.merge(_financials, left_on='RowId', right_on='DateCode', how=\"left\")\n",
        "    \n",
        "    return base_df"
      ],
      "metadata": {
        "execution": {
          "iopub.status.busy": "2022-05-14T08:34:45.196363Z",
          "iopub.execute_input": "2022-05-14T08:34:45.196625Z",
          "iopub.status.idle": "2022-05-14T08:34:45.206862Z",
          "shell.execute_reply.started": "2022-05-14T08:34:45.196586Z",
          "shell.execute_reply": "2022-05-14T08:34:45.205852Z"
        },
        "trusted": true,
        "id": "JeruR2MSXN7X"
      },
      "execution_count": 23,
      "outputs": []
    },
    {
      "cell_type": "markdown",
      "source": [
        "`adjust_price`関数は[Train Demo](https://www.kaggle.com/code/smeitoma/train-demo)で紹介されている関数をほぼそのまま使わせて頂いています。（Dateのインデックス化だけコメントアウトしています）  \n",
        "項目追加が発生するため、統合の範囲を超えていますが、関数内でソートやインデックスの生成といった操作が行われるため、この段階で実行しています。  \n",
        "  \n",
        "関数では**AdjustedClose**という項目が生成されます。  \n",
        "株式は、分割や併合によって株価が大きく変動することがありますが、**Close**の代わりに**AdjustedClose**を使うことで、この影響を減少させることができるとのことです。"
      ],
      "metadata": {
        "id": "lA0z73bmXN7X"
      }
    },
    {
      "cell_type": "code",
      "source": [
        "def adjust_price(price):\n",
        "    \"\"\"\n",
        "    Args:\n",
        "        price (pd.DataFrame)  : pd.DataFrame include stock_price\n",
        "    Returns:\n",
        "        price DataFrame (pd.DataFrame): stock_price with generated AdjustedClose\n",
        "    \"\"\"\n",
        "    # transform Date column into datetime\n",
        "    price.loc[: ,\"Date\"] = pd.to_datetime(price.loc[: ,\"Date\"], format=\"%Y-%m-%d\")\n",
        "\n",
        "    def generate_adjusted_close(df):\n",
        "        \"\"\"\n",
        "        Args:\n",
        "            df (pd.DataFrame)  : stock_price for a single SecuritiesCode\n",
        "        Returns:\n",
        "            df (pd.DataFrame): stock_price with AdjustedClose for a single SecuritiesCode\n",
        "        \"\"\"\n",
        "        # sort data to generate CumulativeAdjustmentFactor\n",
        "        df = df.sort_values(\"Date\", ascending=False)\n",
        "        # generate CumulativeAdjustmentFactor\n",
        "        df.loc[:, \"CumulativeAdjustmentFactor\"] = df[\"AdjustmentFactor\"].cumprod()\n",
        "        # generate AdjustedClose\n",
        "        df.loc[:, \"AdjustedClose\"] = (\n",
        "            df[\"CumulativeAdjustmentFactor\"] * df[\"Close\"]\n",
        "        ).map(lambda x: float(\n",
        "            Decimal(str(x)).quantize(Decimal('0.1'), rounding=ROUND_HALF_UP)\n",
        "        ))\n",
        "        # reverse order\n",
        "        df = df.sort_values(\"Date\")\n",
        "        # to fill AdjustedClose, replace 0 into np.nan\n",
        "        df.loc[df[\"AdjustedClose\"] == 0, \"AdjustedClose\"] = np.nan\n",
        "        # forward fill AdjustedClose\n",
        "        df.loc[:, \"AdjustedClose\"] = df.loc[:, \"AdjustedClose\"].ffill()\n",
        "        return df\n",
        "\n",
        "    # generate AdjustedClose\n",
        "    price = price.sort_values([\"SecuritiesCode\", \"Date\"])\n",
        "    price = price.groupby(\"SecuritiesCode\").apply(generate_adjusted_close).reset_index(drop=True)\n",
        "\n",
        "    # price.set_index(\"Date\", inplace=True)\n",
        "    return price"
      ],
      "metadata": {
        "execution": {
          "iopub.status.busy": "2022-05-14T08:34:45.208288Z",
          "iopub.execute_input": "2022-05-14T08:34:45.208690Z",
          "iopub.status.idle": "2022-05-14T08:34:45.220064Z",
          "shell.execute_reply.started": "2022-05-14T08:34:45.208651Z",
          "shell.execute_reply": "2022-05-14T08:34:45.219054Z"
        },
        "trusted": true,
        "id": "yGHWuU-JXN7Y"
      },
      "execution_count": 24,
      "outputs": []
    },
    {
      "cell_type": "code",
      "source": [
        "def collector(prices, options, financials, trades, secondary_prices, stock_list):\n",
        "    # 読み込んだデータを統合して一つのファイルに纏める\n",
        "    base_df = merge_data(prices, options, financials, trades, secondary_prices, stock_list)\n",
        "    # AdjustedClose項目の生成\n",
        "    base_df = adjust_price(base_df)\n",
        "    \n",
        "    return base_df"
      ],
      "metadata": {
        "execution": {
          "iopub.status.busy": "2022-05-14T08:34:45.223226Z",
          "iopub.execute_input": "2022-05-14T08:34:45.223650Z",
          "iopub.status.idle": "2022-05-14T08:34:45.235803Z",
          "shell.execute_reply.started": "2022-05-14T08:34:45.223605Z",
          "shell.execute_reply": "2022-05-14T08:34:45.235017Z"
        },
        "trusted": true,
        "id": "I4nUl0TSXN7Y"
      },
      "execution_count": 25,
      "outputs": []
    },
    {
      "cell_type": "markdown",
      "source": [
        "## Exec"
      ],
      "metadata": {
        "id": "tHKigA_WXN7Z"
      }
    },
    {
      "cell_type": "markdown",
      "source": [
        "supplemental filesを使わない場合は4行目以降をコメントアウトします。"
      ],
      "metadata": {
        "id": "c04M7DLYXN7Z"
      }
    },
    {
      "cell_type": "code",
      "source": [
        "%%time\n",
        "\n",
        "base_df = collector(*train_files, stock_list)\n",
        "supplemental_df = collector(*supplemental_files, stock_list)\n",
        "base_df = pd.concat([base_df, supplemental_df]).reset_index(drop=True)"
      ],
      "metadata": {
        "execution": {
          "iopub.status.busy": "2022-05-14T08:34:45.237082Z",
          "iopub.execute_input": "2022-05-14T08:34:45.237320Z",
          "iopub.status.idle": "2022-05-14T08:35:20.897025Z",
          "shell.execute_reply.started": "2022-05-14T08:34:45.237294Z",
          "shell.execute_reply": "2022-05-14T08:35:20.895950Z"
        },
        "trusted": true,
        "colab": {
          "base_uri": "https://localhost:8080/"
        },
        "id": "69FNz6tGXN7Z",
        "outputId": "ccba0494-f01b-444f-f8e1-22b3f794b817"
      },
      "execution_count": 26,
      "outputs": [
        {
          "output_type": "stream",
          "name": "stdout",
          "text": [
            "CPU times: user 32.3 s, sys: 819 ms, total: 33.1 s\n",
            "Wall time: 33 s\n"
          ]
        }
      ]
    },
    {
      "cell_type": "markdown",
      "source": [
        "# 特徴量エンジニアリング\n",
        "\n",
        "特徴量を生成し、推論結果の精度向上に貢献するものだけを選びます。  "
      ],
      "metadata": {
        "id": "WRkBjUfOXN7a"
      }
    },
    {
      "cell_type": "markdown",
      "source": [
        "## Function\n",
        "\n",
        "`calc_change_rate_base`関数と`calc_volatility_base`関数は、[Train Demo](https://www.kaggle.com/code/smeitoma/train-demo)で紹介されていた関数を参考にしています。"
      ],
      "metadata": {
        "id": "wAFUxumBXN7a"
      }
    },
    {
      "cell_type": "code",
      "source": [
        "# 「column_name で指定された項目の、periodsで指定された期間（複数）での変化率を導出し、項目として追加する関数」を生成する関数\n",
        "# 生成された関数は、特定証券コードだけを持つデータフレームが入力されることを前提としている。\n",
        "def calc_change_rate_base(column_name, periods):\n",
        "    def func(price):\n",
        "        for period in periods:\n",
        "            price.loc[:, f\"{column_name}_change_rate_{period}\"] = price[column_name].pct_change(period)\n",
        "        return price\n",
        "    return func\n",
        "\n",
        "\n",
        "# 「column_name で指定された項目の、periodsで指定された期間（複数）での変動の度合いを導出し、項目として追加する関数」を生成する関数\n",
        "# 生成された関数は、特定証券コードだけを持つデータフレームが入力されることを前提としている。\n",
        "def calc_volatility_base(column_name, periods):\n",
        "    def func(price):\n",
        "        for period in periods:\n",
        "            price.loc[:, f\"{column_name}_volatility_{period}\"] = np.log(price[column_name]).diff().rolling(window=period, min_periods=1).std()\n",
        "        return price\n",
        "    return func\n",
        "\n",
        "# 「column_name で指定された項目の、periodsで指定された期間（複数）での移動平均値と現在値の比率を導出し、項目として追加する関数」を生成する関数\n",
        "# 移動平均値そのものではなく、現在値に対する比率としているのは、今回のTargetが比率であるため。\n",
        "# 生成された関数は、特定証券コードだけを持つデータフレームが入力されることを前提としている。\n",
        "def calc_moving_average_rate_base(column_name, periods):\n",
        "    def func(price):\n",
        "        for period in periods:\n",
        "            price.loc[:, f\"{column_name}_average_rate_{period}\"] = price[column_name].rolling(window=period, min_periods=1).mean() / price[column_name]\n",
        "        return price\n",
        "    return func\n",
        "\n",
        "# 終値の変動率を生成し、項目として追加する関数。これをShift-2するとTargetになる。\n",
        "# この関数は、特定証券コードだけを持つデータフレームが入力されることを前提としている。\n",
        "def calc_target_shift2(price):\n",
        "    price.loc[:, 'Target_shift2'] = price['Close'].pct_change()\n",
        "    return price\n",
        "\n",
        "# 入力データフレームを証券コード毎にグルーピングし、引数で渡された関数を適用する関数\n",
        "# functionsには↑で定義したcalc_xxxの関数のリストが渡される想定。\n",
        "def add_columns_per_code(price, functions):\n",
        "    def func(df):\n",
        "        for f in functions:\n",
        "            df = f(df)\n",
        "        return df\n",
        "    price = price.sort_values([\"SecuritiesCode\", \"Date\"])\n",
        "    price = price.groupby(\"SecuritiesCode\").apply(func)\n",
        "    price = price.reset_index(drop=True)\n",
        "    return price\n",
        "\n",
        "# 入力データフレームに特徴量を追加する関数\n",
        "# 追加する項目は、基本的にレコード内の値だけを使う想定\n",
        "def add_columns_per_day(base_df):\n",
        "    base_df['diff_rate1'] = (base_df['Close'] - base_df['Open']) / base_df['Close']\n",
        "    base_df['diff_rate2'] = (base_df['High'] - base_df['Low']) / base_df['Close']    \n",
        "    return base_df\n",
        "\n",
        "# 入力データフレームに特徴量を追加する関数\n",
        "def generate_features(base_df):\n",
        "    prev_column_names = base_df.columns\n",
        "    \n",
        "    periods = [3, 9]\n",
        "    functions = [\n",
        "        calc_change_rate_base(\"AdjustedClose\", periods), \n",
        "        calc_volatility_base(\"AdjustedClose\", periods), \n",
        "        calc_moving_average_rate_base(\"Volume\", periods), \n",
        "        calc_target_shift2\n",
        "    ]\n",
        "    \n",
        "    # 証券コード単位の特徴量（移動平均等、一定期間のレコードをインプットに生成する特徴量）を追加\n",
        "    base_df = add_columns_per_code(base_df, functions)\n",
        "    # 日単位の特徴量（レコード内の値で導出できる特徴量）を追加\n",
        "    base_df = add_columns_per_day(base_df)\n",
        "    \n",
        "    # 後で特徴量を選択しやすくするため、追加した項目名のリストを生成\n",
        "    add_column_names = list(set(base_df.columns) - set(prev_column_names))\n",
        "    return base_df, add_column_names"
      ],
      "metadata": {
        "execution": {
          "iopub.status.busy": "2022-05-14T08:35:20.898558Z",
          "iopub.execute_input": "2022-05-14T08:35:20.899015Z",
          "iopub.status.idle": "2022-05-14T08:35:20.912594Z",
          "shell.execute_reply.started": "2022-05-14T08:35:20.898970Z",
          "shell.execute_reply": "2022-05-14T08:35:20.911617Z"
        },
        "trusted": true,
        "id": "-X8_-dLpXN7a"
      },
      "execution_count": 27,
      "outputs": []
    },
    {
      "cell_type": "code",
      "source": [
        "# 特徴量選択\n",
        "def select_features(feature_df, add_column_names, is_train):\n",
        "    # 基本項目\n",
        "    base_cols = ['RowId', 'Date', 'SecuritiesCode']\n",
        "    # 数値系の特徴量\n",
        "    numerical_cols = sorted(add_column_names)\n",
        "    # カテゴリ系の特徴量\n",
        "    categorical_cols = ['NewMarketSegment', '33SectorCode', '17SectorCode']\n",
        "    # 目的変数\n",
        "    label_col = ['Target']\n",
        "    \n",
        "    # 特徴量\n",
        "    feat_cols = numerical_cols + categorical_cols\n",
        "\n",
        "    # データフレームの項目を選択された項目だけに絞込\n",
        "    feature_df = feature_df[base_cols + feat_cols + label_col]\n",
        "    # カテゴリ系項目はdtypeをcategoryに変更\n",
        "    feature_df[categorical_cols] = feature_df[categorical_cols].astype('category')\n",
        "\n",
        "    if is_train:\n",
        "        # 学習データの場合は、NA項目があるレコードを削除\n",
        "        feature_df.dropna(inplace=True)\n",
        "    else:\n",
        "        # 推論データの場合は、NA項目を補完\n",
        "        feature_df[numerical_cols] = feature_df[numerical_cols].fillna(0)\n",
        "        feature_df[numerical_cols] = feature_df[numerical_cols].replace([np.inf, -np.inf], 0)\n",
        "    \n",
        "    return feature_df, feat_cols, label_col"
      ],
      "metadata": {
        "execution": {
          "iopub.status.busy": "2022-05-14T08:35:20.914028Z",
          "iopub.execute_input": "2022-05-14T08:35:20.914266Z",
          "iopub.status.idle": "2022-05-14T08:35:20.930617Z",
          "shell.execute_reply.started": "2022-05-14T08:35:20.914241Z",
          "shell.execute_reply": "2022-05-14T08:35:20.929727Z"
        },
        "trusted": true,
        "id": "8u9xJ_StXN7b"
      },
      "execution_count": 28,
      "outputs": []
    },
    {
      "cell_type": "code",
      "source": [
        "def preprocessor(base_df, is_train=True):\n",
        "    feature_df = base_df.copy()\n",
        "    \n",
        "    ## 特徴量生成\n",
        "    feature_df, add_column_names = generate_features(feature_df)\n",
        "    \n",
        "    ## 特徴量選択\n",
        "    feature_df, feat_cols, label_col = select_features(feature_df, add_column_names, is_train)\n",
        "\n",
        "    return feature_df, feat_cols, label_col"
      ],
      "metadata": {
        "execution": {
          "iopub.status.busy": "2022-05-14T08:35:20.932174Z",
          "iopub.execute_input": "2022-05-14T08:35:20.932616Z",
          "iopub.status.idle": "2022-05-14T08:35:20.943998Z",
          "shell.execute_reply.started": "2022-05-14T08:35:20.932587Z",
          "shell.execute_reply": "2022-05-14T08:35:20.943092Z"
        },
        "trusted": true,
        "id": "s2vMmur8XN7b"
      },
      "execution_count": 29,
      "outputs": []
    },
    {
      "cell_type": "markdown",
      "source": [
        "## Exec"
      ],
      "metadata": {
        "id": "aoed_-5GXN7b"
      }
    },
    {
      "cell_type": "code",
      "source": [
        "%%time\n",
        "\n",
        "feature_df, feat_cols, label_col = preprocessor(base_df)"
      ],
      "metadata": {
        "execution": {
          "iopub.status.busy": "2022-05-14T08:35:20.945507Z",
          "iopub.execute_input": "2022-05-14T08:35:20.945794Z",
          "iopub.status.idle": "2022-05-14T08:35:45.560309Z",
          "shell.execute_reply.started": "2022-05-14T08:35:20.945758Z",
          "shell.execute_reply": "2022-05-14T08:35:45.559780Z"
        },
        "trusted": true,
        "colab": {
          "base_uri": "https://localhost:8080/"
        },
        "id": "NOh3xssxXN7c",
        "outputId": "1fd19bc5-b645-4887-9cd9-5c0f3ed9787e"
      },
      "execution_count": 30,
      "outputs": [
        {
          "output_type": "stream",
          "name": "stdout",
          "text": [
            "CPU times: user 23.8 s, sys: 1.08 s, total: 24.9 s\n",
            "Wall time: 24.8 s\n"
          ]
        }
      ]
    },
    {
      "cell_type": "markdown",
      "source": [
        "# 学習"
      ],
      "metadata": {
        "id": "qI892ob1XN7c"
      }
    },
    {
      "cell_type": "markdown",
      "source": [
        "## Function"
      ],
      "metadata": {
        "id": "h8G09sGXXN7c"
      }
    },
    {
      "cell_type": "markdown",
      "source": [
        "学習を行いモデルを生成します"
      ],
      "metadata": {
        "id": "Gbkm4cPlXN7c"
      }
    },
    {
      "cell_type": "code",
      "source": [
        "# 予測値を降順に並べて順位番号を振る関数\n",
        "# 言い換えると、目的変数から提出用項目を導出する関数\n",
        "def add_rank(df, col_name=\"pred\"):\n",
        "    df[\"Rank\"] = df.groupby(\"Date\")[col_name].rank(ascending=False, method=\"first\") - 1 \n",
        "    df[\"Rank\"] = df[\"Rank\"].astype(\"int\")\n",
        "    return df"
      ],
      "metadata": {
        "execution": {
          "iopub.status.busy": "2022-05-14T08:35:45.561214Z",
          "iopub.execute_input": "2022-05-14T08:35:45.561725Z",
          "iopub.status.idle": "2022-05-14T08:35:45.565954Z",
          "shell.execute_reply.started": "2022-05-14T08:35:45.561696Z",
          "shell.execute_reply": "2022-05-14T08:35:45.565182Z"
        },
        "trusted": true,
        "id": "X_xxxC7CXN7c"
      },
      "execution_count": 31,
      "outputs": []
    },
    {
      "cell_type": "markdown",
      "source": [
        "`calc_spread_return_sharpe`関数は[Train Demo](https://www.kaggle.com/code/smeitoma/train-demo)で紹介されている関数をそのまま使わせて頂いています。  \n",
        "推論した**Rank**と、正解の**Target**を含むデータフレームを渡すと、コンテストの評価方法に沿ったスコアを計算してくれます。"
      ],
      "metadata": {
        "id": "Y0KMmweHXN7d"
      }
    },
    {
      "cell_type": "code",
      "source": [
        "def calc_spread_return_sharpe(df: pd.DataFrame, portfolio_size: int = 200, toprank_weight_ratio: float = 2) -> float:\n",
        "    \"\"\"\n",
        "    Args:\n",
        "        df (pd.DataFrame): predicted results\n",
        "        portfolio_size (int): # of equities to buy/sell\n",
        "        toprank_weight_ratio (float): the relative weight of the most highly ranked stock compared to the least.\n",
        "    Returns:\n",
        "        (float): sharpe ratio\n",
        "    \"\"\"\n",
        "    def _calc_spread_return_per_day(df, portfolio_size, toprank_weight_ratio):\n",
        "        \"\"\"\n",
        "        Args:\n",
        "            df (pd.DataFrame): predicted results\n",
        "            portfolio_size (int): # of equities to buy/sell\n",
        "            toprank_weight_ratio (float): the relative weight of the most highly ranked stock compared to the least.\n",
        "        Returns:\n",
        "            (float): spread return\n",
        "        \"\"\"\n",
        "        assert df['Rank'].min() == 0\n",
        "        assert df['Rank'].max() == len(df['Rank']) - 1\n",
        "        weights = np.linspace(start=toprank_weight_ratio, stop=1, num=portfolio_size)\n",
        "        purchase = (df.sort_values(by='Rank')['Target'][:portfolio_size] * weights).sum() / weights.mean()\n",
        "        short = (df.sort_values(by='Rank', ascending=False)['Target'][:portfolio_size] * weights).sum() / weights.mean()\n",
        "        return purchase - short\n",
        "\n",
        "    buf = df.groupby('Date').apply(_calc_spread_return_per_day, portfolio_size, toprank_weight_ratio)\n",
        "    sharpe_ratio = buf.mean() / buf.std()\n",
        "    return sharpe_ratio"
      ],
      "metadata": {
        "execution": {
          "iopub.status.busy": "2022-05-14T08:35:45.567732Z",
          "iopub.execute_input": "2022-05-14T08:35:45.568416Z",
          "iopub.status.idle": "2022-05-14T08:35:45.579615Z",
          "shell.execute_reply.started": "2022-05-14T08:35:45.568384Z",
          "shell.execute_reply": "2022-05-14T08:35:45.578657Z"
        },
        "trusted": true,
        "id": "Cv5-ZmjaXN7d"
      },
      "execution_count": 32,
      "outputs": []
    },
    {
      "cell_type": "code",
      "source": [
        "# 予測用のデータフレームと、予測結果をもとに、スコアを計算する関数\n",
        "def evaluator(df, pred):\n",
        "    df[\"pred\"] = pred\n",
        "    df = add_rank(df)\n",
        "    score = calc_spread_return_sharpe(df)\n",
        "    return score"
      ],
      "metadata": {
        "execution": {
          "iopub.status.busy": "2022-05-14T08:35:45.580529Z",
          "iopub.execute_input": "2022-05-14T08:35:45.581214Z",
          "iopub.status.idle": "2022-05-14T08:35:45.591316Z",
          "shell.execute_reply.started": "2022-05-14T08:35:45.581186Z",
          "shell.execute_reply": "2022-05-14T08:35:45.590677Z"
        },
        "trusted": true,
        "id": "dBDxgUBAXN7d"
      },
      "execution_count": 33,
      "outputs": []
    },
    {
      "cell_type": "markdown",
      "source": [
        "`lightgbm`ではなく`optuna.integration.lightgbm`をimportすることで、パイパーパラメータチューニングが実行されるようになります。"
      ],
      "metadata": {
        "id": "Vwr-lqw9XN7e"
      }
    },
    {
      "cell_type": "code",
      "source": [
        "import lightgbm as lgb\n",
        "# import optuna.integration.lightgbm as lgb\n",
        "\n",
        "# 学習を実行する関数\n",
        "def trainer(feature_df, feat_cols, label_col, fold_params, seed=2022):\n",
        "    scores = []\n",
        "    models = []\n",
        "    params = []\n",
        "\n",
        "    for param in fold_params:\n",
        "        ################################\n",
        "        # データ準備\n",
        "        ################################\n",
        "        train = feature_df[(param[0] <= feature_df['Date']) & (feature_df['Date'] < param[1])]\n",
        "        valid = feature_df[(param[1] <= feature_df['Date']) & (feature_df['Date'] < param[2])]\n",
        "\n",
        "        X_train = train[feat_cols]\n",
        "        y_train = train[label_col]\n",
        "        X_valid = valid[feat_cols]\n",
        "        y_valid = valid[label_col]\n",
        "        \n",
        "        lgb_train = lgb.Dataset(X_train, y_train)\n",
        "        lgb_valid = lgb.Dataset(X_valid, y_valid, reference=lgb_train)\n",
        "\n",
        "        ################################\n",
        "        # 学習\n",
        "        ################################\n",
        "        params = {\n",
        "            'task': 'train',                   # 学習\n",
        "            'boosting_type': 'gbdt',           # GBDT\n",
        "            'objective': 'regression',         # 回帰\n",
        "            'metric': 'rmse',                  # 損失（誤差）\n",
        "            'learning_rate': 0.01,             # 学習率\n",
        "            'lambda_l1': 0.5,                  # L1正則化項の係数\n",
        "            'lambda_l2': 0.5,                  # L2正則化項の係数\n",
        "            'num_leaves': 10,                  # 最大葉枚数\n",
        "            'feature_fraction': 0.5,           # ランダムに抽出される列の割合\n",
        "            'bagging_fraction': 0.5,           # ランダムに抽出される標本の割合\n",
        "            'bagging_freq': 5,                 # バギング実施頻度\n",
        "            'min_child_samples': 10,           # 葉に含まれる最小データ数\n",
        "            'seed': seed                       # シード値\n",
        "        } \n",
        " \n",
        "        lgb_results = {}                       \n",
        "        model = lgb.train( \n",
        "            params,                            # ハイパーパラメータ\n",
        "            lgb_train,                         # 訓練データ\n",
        "            valid_sets=[lgb_train, lgb_valid], # 検証データ\n",
        "            valid_names=['Train', 'Valid'],    # データセット名前\n",
        "            num_boost_round=2000,              # 計算回数\n",
        "            early_stopping_rounds=100,         # 計算打ち切り設定\n",
        "            evals_result=lgb_results,          # 学習の履歴\n",
        "            verbose_eval=100,                  # 学習過程の表示サイクル\n",
        "        )  \n",
        "\n",
        "        ################################\n",
        "        # 結果描画\n",
        "        ################################\n",
        "        fig = plt.figure(figsize=(10, 4))\n",
        "\n",
        "        # loss\n",
        "        plt.subplot(1,2,1)\n",
        "        loss_train = lgb_results['Train']['rmse']\n",
        "        loss_test = lgb_results['Valid']['rmse']   \n",
        "        plt.xlabel('Iteration')\n",
        "        plt.ylabel('logloss')\n",
        "        plt.plot(loss_train, label='train loss')\n",
        "        plt.plot(loss_test, label='valid loss')\n",
        "        plt.legend()\n",
        "\n",
        "        # feature importance\n",
        "        plt.subplot(1,2,2)\n",
        "        importance = pd.DataFrame({'feature':feat_cols, 'importance':model.feature_importance()})\n",
        "        sns.barplot(x = 'importance', y = 'feature', data = importance.sort_values('importance', ascending=False))\n",
        "\n",
        "        plt.tight_layout()\n",
        "        plt.show()\n",
        "\n",
        "        ################################\n",
        "        # 評価\n",
        "        ################################\n",
        "        # 推論\n",
        "        pred =  model.predict(X_valid, num_iteration=model.best_iteration)\n",
        "        # 評価\n",
        "        score = evaluator(valid, pred)\n",
        "\n",
        "        scores.append(score)\n",
        "        models.append(model)\n",
        "\n",
        "    print(\"CV_SCORES:\", scores)\n",
        "    print(\"CV_SCORE:\", np.mean(scores))\n",
        "    \n",
        "    return models"
      ],
      "metadata": {
        "execution": {
          "iopub.status.busy": "2022-05-14T08:35:45.593004Z",
          "iopub.execute_input": "2022-05-14T08:35:45.593314Z",
          "iopub.status.idle": "2022-05-14T08:35:46.479312Z",
          "shell.execute_reply.started": "2022-05-14T08:35:45.593276Z",
          "shell.execute_reply": "2022-05-14T08:35:46.478492Z"
        },
        "trusted": true,
        "id": "714mmcOvXN7e"
      },
      "execution_count": 34,
      "outputs": []
    },
    {
      "cell_type": "markdown",
      "source": [
        "## Exec"
      ],
      "metadata": {
        "id": "kNJQAIHtXN7f"
      }
    },
    {
      "cell_type": "code",
      "source": [
        "# 2020-12-23よりも前のデータは証券コードが2000個すべて揃っていないため、これ以降のデータのみを使う。\n",
        "# (学習用データの開始日、学習用データの終了日＝検証用データの開始日、検証用データの終了日)\n",
        "fold_params = [\n",
        "    ('2020-12-23', '2021-11-01', '2021-12-01'),\n",
        "    ('2021-01-23', '2021-12-01', '2022-01-01'),\n",
        "    ('2021-02-23', '2022-01-01', '2022-02-01'),\n",
        "]\n",
        "models = trainer(feature_df, feat_cols, label_col, fold_params)"
      ],
      "metadata": {
        "execution": {
          "iopub.status.busy": "2022-05-14T08:35:46.480408Z",
          "iopub.execute_input": "2022-05-14T08:35:46.481021Z",
          "iopub.status.idle": "2022-05-14T08:36:21.367008Z",
          "shell.execute_reply.started": "2022-05-14T08:35:46.480988Z",
          "shell.execute_reply": "2022-05-14T08:36:21.366006Z"
        },
        "trusted": true,
        "colab": {
          "base_uri": "https://localhost:8080/",
          "height": 1000
        },
        "id": "lOF9jWncXN7f",
        "outputId": "5c09d4b6-0ef4-4e4d-ff75-a3a2d6d1e178"
      },
      "execution_count": 35,
      "outputs": [
        {
          "output_type": "stream",
          "name": "stdout",
          "text": [
            "Training until validation scores don't improve for 100 rounds.\n",
            "[100]\tTrain's rmse: 0.0215084\tValid's rmse: 0.0246446\n",
            "[200]\tTrain's rmse: 0.0214951\tValid's rmse: 0.0246444\n",
            "Early stopping, best iteration is:\n",
            "[165]\tTrain's rmse: 0.0214991\tValid's rmse: 0.0246428\n"
          ]
        },
        {
          "output_type": "display_data",
          "data": {
            "text/plain": [
              "<Figure size 720x288 with 2 Axes>"
            ],
            "image/png": "[encoded data removed]"
          },
          "metadata": {
            "needs_background": "light"
          }
        },
        {
          "output_type": "stream",
          "name": "stdout",
          "text": [
            "Training until validation scores don't improve for 100 rounds.\n",
            "[100]\tTrain's rmse: 0.0218368\tValid's rmse: 0.0222499\n",
            "[200]\tTrain's rmse: 0.0218226\tValid's rmse: 0.0222364\n",
            "[300]\tTrain's rmse: 0.0218121\tValid's rmse: 0.0222282\n",
            "[400]\tTrain's rmse: 0.0218032\tValid's rmse: 0.0222191\n",
            "[500]\tTrain's rmse: 0.0217949\tValid's rmse: 0.0222179\n",
            "Early stopping, best iteration is:\n",
            "[475]\tTrain's rmse: 0.0217968\tValid's rmse: 0.0222164\n"
          ]
        },
        {
          "output_type": "display_data",
          "data": {
            "text/plain": [
              "<Figure size 720x288 with 2 Axes>"
            ],
            "image/png": "[encoded data removed]"
          },
          "metadata": {
            "needs_background": "light"
          }
        },
        {
          "output_type": "stream",
          "name": "stdout",
          "text": [
            "Training until validation scores don't improve for 100 rounds.\n",
            "[100]\tTrain's rmse: 0.0215521\tValid's rmse: 0.0251059\n",
            "[200]\tTrain's rmse: 0.0215305\tValid's rmse: 0.0250856\n",
            "[300]\tTrain's rmse: 0.0215165\tValid's rmse: 0.0250726\n",
            "[400]\tTrain's rmse: 0.0215052\tValid's rmse: 0.0250651\n",
            "[500]\tTrain's rmse: 0.0214957\tValid's rmse: 0.025057\n",
            "[600]\tTrain's rmse: 0.0214873\tValid's rmse: 0.0250544\n",
            "[700]\tTrain's rmse: 0.0214794\tValid's rmse: 0.0250546\n",
            "[800]\tTrain's rmse: 0.0214719\tValid's rmse: 0.0250516\n",
            "[900]\tTrain's rmse: 0.0214656\tValid's rmse: 0.0250475\n",
            "[1000]\tTrain's rmse: 0.0214593\tValid's rmse: 0.0250473\n",
            "[1100]\tTrain's rmse: 0.021453\tValid's rmse: 0.0250451\n",
            "[1200]\tTrain's rmse: 0.0214469\tValid's rmse: 0.0250436\n",
            "[1300]\tTrain's rmse: 0.021441\tValid's rmse: 0.0250419\n",
            "[1400]\tTrain's rmse: 0.0214353\tValid's rmse: 0.0250417\n",
            "[1500]\tTrain's rmse: 0.02143\tValid's rmse: 0.0250385\n",
            "[1600]\tTrain's rmse: 0.0214251\tValid's rmse: 0.0250393\n",
            "Early stopping, best iteration is:\n",
            "[1560]\tTrain's rmse: 0.0214269\tValid's rmse: 0.025038\n"
          ]
        },
        {
          "output_type": "display_data",
          "data": {
            "text/plain": [
              "<Figure size 720x288 with 2 Axes>"
            ],
            "image/png": "[encoded data removed]"
          },
          "metadata": {
            "needs_background": "light"
          }
        },
        {
          "output_type": "stream",
          "name": "stdout",
          "text": [
            "CV_SCORES: [0.29534986094732585, 0.31011734257423873, 0.22807403427257397]\n",
            "CV_SCORE: 0.27784707926471286\n"
          ]
        }
      ]
    },
    {
      "cell_type": "markdown",
      "source": [
        "# 推論・評価"
      ],
      "metadata": {
        "id": "9aRmAIzYXN7f"
      }
    },
    {
      "cell_type": "markdown",
      "source": [
        "生成したモデルを使って試験用データの推論を行いスコアを算出します。"
      ],
      "metadata": {
        "id": "eACjZycvXN7f"
      }
    },
    {
      "cell_type": "markdown",
      "source": [
        ""
      ],
      "metadata": {
        "id": "LZ0SRo0qXN7f"
      }
    },
    {
      "cell_type": "markdown",
      "source": [
        "## Function"
      ],
      "metadata": {
        "id": "ATAJcYeLXN7f"
      }
    },
    {
      "cell_type": "markdown",
      "source": [
        ""
      ],
      "metadata": {
        "id": "L_xh8kN8XN7g"
      }
    },
    {
      "cell_type": "code",
      "source": [
        "def predictor(feature_df, feat_cols, models, is_train=True):\n",
        "    X = feature_df[feat_cols]\n",
        "    \n",
        "    # 推論\n",
        "    preds = list(map(lambda model: model.predict(X, num_iteration=model.best_iteration), models))\n",
        "    \n",
        "    # スコアは学習時のみ計算\n",
        "    if is_train:\n",
        "        scores = list(map(lambda pred: evaluator(feature_df, pred), preds))\n",
        "        print(\"SCORES:\", scores)\n",
        "\n",
        "    # 推論結果をバギング\n",
        "    pred = np.array(preds).mean(axis=0)\n",
        "\n",
        "    # スコアは学習時のみ計算\n",
        "    if is_train:\n",
        "        score = evaluator(feature_df, pred)\n",
        "        print(\"SCORE:\", score)\n",
        "    \n",
        "    return pred"
      ],
      "metadata": {
        "execution": {
          "iopub.status.busy": "2022-05-14T08:36:21.368465Z",
          "iopub.execute_input": "2022-05-14T08:36:21.368666Z",
          "iopub.status.idle": "2022-05-14T08:36:21.375117Z",
          "shell.execute_reply.started": "2022-05-14T08:36:21.368642Z",
          "shell.execute_reply": "2022-05-14T08:36:21.374042Z"
        },
        "trusted": true,
        "id": "9u7FmRtpXN7g"
      },
      "execution_count": 36,
      "outputs": []
    },
    {
      "cell_type": "markdown",
      "source": [
        "## Exec"
      ],
      "metadata": {
        "id": "vmXEQfWMXN7g"
      }
    },
    {
      "cell_type": "code",
      "source": [
        "# 試験用データは学習用にも検証用にも使用していないものを使う\n",
        "test_df = feature_df[('2022-02-01' <= feature_df['Date'])].copy()\n",
        "pred = predictor(test_df, feat_cols, models)"
      ],
      "metadata": {
        "execution": {
          "iopub.status.busy": "2022-05-14T08:36:21.377970Z",
          "iopub.execute_input": "2022-05-14T08:36:21.378201Z",
          "iopub.status.idle": "2022-05-14T08:36:27.688510Z",
          "shell.execute_reply.started": "2022-05-14T08:36:21.378175Z",
          "shell.execute_reply": "2022-05-14T08:36:27.687808Z"
        },
        "trusted": true,
        "colab": {
          "base_uri": "https://localhost:8080/"
        },
        "id": "Tyap8bPQXN7g",
        "outputId": "12c4dd91-3652-411f-d956-fe2b077765ae"
      },
      "execution_count": 37,
      "outputs": [
        {
          "output_type": "stream",
          "name": "stdout",
          "text": [
            "SCORES: [-0.06262645643201462, -0.11132825915561868, -0.09400916992129663]\n",
            "SCORE: -0.10668912528370172\n"
          ]
        }
      ]
    },
    {
      "cell_type": "markdown",
      "source": [
        "# 提出"
      ],
      "metadata": {
        "id": "GAY4Rum2XN7h"
      }
    },
    {
      "cell_type": "markdown",
      "source": [
        "時系列APIを使って推論結果を登録します。  \n",
        "特徴量として、移動平均等の過去データを参照する値を採用しているため、時系列APIから得られたデータをため込む仕組みを実装する必要があります。  \n",
        "この仕組みに関しては、[Start-to-finish demo based on s-meitoma + tweaks](https://www.kaggle.com/code/lowellniles/start-to-finish-demo-based-on-s-meitoma-tweaks)を参考にさせていただきました。  \n",
        "以下のコードでは`past_df`というデータフレームに履歴データをため込む実装になっています。"
      ],
      "metadata": {
        "id": "f-uoRvUeXN7h"
      }
    },
    {
      "cell_type": "code",
      "source": [
        "# 時系列APIのロード\n",
        "import jpx_tokyo_market_prediction\n",
        "env = jpx_tokyo_market_prediction.make_env()\n",
        "iter_test = env.iter_test()"
      ],
      "metadata": {
        "execution": {
          "iopub.status.busy": "2022-05-14T08:36:27.689443Z",
          "iopub.execute_input": "2022-05-14T08:36:27.689982Z",
          "iopub.status.idle": "2022-05-14T08:36:27.710661Z",
          "shell.execute_reply.started": "2022-05-14T08:36:27.689951Z",
          "shell.execute_reply": "2022-05-14T08:36:27.710003Z"
        },
        "trusted": true,
        "id": "OQYUNS9cXN7h"
      },
      "execution_count": 38,
      "outputs": []
    },
    {
      "cell_type": "code",
      "source": [
        "# supplemental filesを履歴データの初期状態としてセットアップ\n",
        "past_df = supplemental_df.copy()"
      ],
      "metadata": {
        "execution": {
          "iopub.status.busy": "2022-05-14T08:36:27.711744Z",
          "iopub.execute_input": "2022-05-14T08:36:27.711979Z",
          "iopub.status.idle": "2022-05-14T08:36:27.731460Z",
          "shell.execute_reply.started": "2022-05-14T08:36:27.711951Z",
          "shell.execute_reply": "2022-05-14T08:36:27.730710Z"
        },
        "trusted": true,
        "id": "8U9c03TiXN7h"
      },
      "execution_count": 39,
      "outputs": []
    },
    {
      "cell_type": "code",
      "source": [
        "# 日次で推論・登録\n",
        "for i, (prices, options, financials, trades, secondary_prices, sample_prediction) in enumerate(iter_test):\n",
        "    current_date = prices[\"Date\"].iloc[0]\n",
        "\n",
        "    if i == 0:\n",
        "        # リークを防止するため、時系列APIから受け取ったデータより未来のデータを削除\n",
        "        past_df = past_df[past_df[\"Date\"] < current_date]\n",
        "\n",
        "    # リソース確保のため古い履歴を削除\n",
        "    threshold = (pd.Timestamp(current_date) - pd.offsets.BDay(80)).strftime(\"%Y-%m-%d\")\n",
        "    past_df = past_df[past_df[\"Date\"] >= threshold]\n",
        "    \n",
        "    # 時系列APIから受け取ったデータを履歴データに統合\n",
        "    base_df = collector(prices, options, financials, trades, secondary_prices, stock_list)\n",
        "    past_df = pd.concat([past_df, base_df]).reset_index(drop=True)\n",
        "\n",
        "    # 特徴量エンジニアリング\n",
        "    feature_df, feat_cols, label_col = preprocessor(past_df, False)\n",
        "\n",
        "    # 予測対象レコードだけを抽出\n",
        "    feature_df = feature_df[feature_df['Date'] == current_date]\n",
        "\n",
        "    # 推論\n",
        "    feature_df[\"pred\"] = predictor(feature_df, feat_cols, models, False)\n",
        "\n",
        "    # 推論結果からRANKを導出し、提出データに反映\n",
        "    feature_df = add_rank(feature_df)\n",
        "    feature_map = feature_df.set_index('SecuritiesCode')['Rank'].to_dict()\n",
        "    sample_prediction['Rank'] = sample_prediction['SecuritiesCode'].map(feature_map)\n",
        "\n",
        "    # 結果を登録\n",
        "    env.predict(sample_prediction)"
      ],
      "metadata": {
        "execution": {
          "iopub.status.busy": "2022-05-14T08:36:27.732604Z",
          "iopub.execute_input": "2022-05-14T08:36:27.732965Z",
          "iopub.status.idle": "2022-05-14T08:37:13.693032Z",
          "shell.execute_reply.started": "2022-05-14T08:36:27.732934Z",
          "shell.execute_reply": "2022-05-14T08:37:13.692115Z"
        },
        "trusted": true,
        "colab": {
          "base_uri": "https://localhost:8080/"
        },
        "id": "_ek5h-QxXN7h",
        "outputId": "c25e7b0a-a611-45c8-d4e4-a5b517b17b12"
      },
      "execution_count": 40,
      "outputs": [
        {
          "output_type": "stream",
          "name": "stdout",
          "text": [
            "This version of the API is not optimized and should not be used to estimate the runtime of your code on the hidden test set.\n"
          ]
        }
      ]
    }
  ]
}